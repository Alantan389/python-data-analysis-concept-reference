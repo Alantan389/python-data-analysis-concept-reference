{
 "cells": [
  {
   "cell_type": "markdown",
   "metadata": {},
   "source": [
    "## 数据运营不得不知的的数据处理经验"
   ]
  },
  {
   "cell_type": "code",
   "execution_count": 1,
   "metadata": {},
   "outputs": [],
   "source": [
    "import pandas as pd\n",
    "import numpy as np\n",
    "from sklearn.impute import SimpleImputer\n",
    "import statistics\n",
    "\n",
    "from sklearn.tree import DecisionTreeClassifier\n",
    "from sklearn.decomposition import PCA"
   ]
  },
  {
   "cell_type": "code",
   "execution_count": null,
   "metadata": {},
   "outputs": [],
   "source": []
  },
  {
   "cell_type": "markdown",
   "metadata": {},
   "source": [
    "## 缺失值的处理"
   ]
  },
  {
   "cell_type": "code",
   "execution_count": 2,
   "metadata": {},
   "outputs": [
    {
     "name": "stdout",
     "output_type": "stream",
     "text": [
      "        col1      col2      col3      col4\n",
      "0  -1.304651  0.923036  0.386671  0.283213\n",
      "1  -0.739947       NaN -0.238299 -0.283137\n",
      "2   0.152713 -0.631102  0.215356 -0.244788\n",
      "3   1.374712  1.135909  0.234408  0.462964\n",
      "4  -0.157082 -0.996825  1.951375       NaN\n",
      "..       ...       ...       ...       ...\n",
      "95 -1.633138 -0.359680 -1.274154 -1.130256\n",
      "96  0.451450  1.189453 -1.336748 -0.299288\n",
      "97 -0.547945  1.310752 -0.998328 -0.615632\n",
      "98  0.171874 -1.482310 -2.203544  1.249701\n",
      "99 -0.120466 -0.317151 -2.162981 -0.170375\n",
      "\n",
      "[100 rows x 4 columns]\n"
     ]
    }
   ],
   "source": [
    "\n",
    "# 生成缺失数据\n",
    "df=pd.DataFrame(np.random.randn(100,4),columns=['col1','col2','col3','col4'])\n",
    "df.iloc[1:2,1]=np.nan\n",
    "df.iloc[4,3]=np.nan\n",
    "print(df)"
   ]
  },
  {
   "cell_type": "code",
   "execution_count": 3,
   "metadata": {},
   "outputs": [
    {
     "name": "stdout",
     "output_type": "stream",
     "text": [
      "     col1   col2   col3   col4\n",
      "0   False  False  False  False\n",
      "1   False   True  False  False\n",
      "2   False  False  False  False\n",
      "3   False  False  False  False\n",
      "4   False  False  False   True\n",
      "..    ...    ...    ...    ...\n",
      "95  False  False  False  False\n",
      "96  False  False  False  False\n",
      "97  False  False  False  False\n",
      "98  False  False  False  False\n",
      "99  False  False  False  False\n",
      "\n",
      "[100 rows x 4 columns]\n"
     ]
    }
   ],
   "source": [
    "# 查看那些只缺失\n",
    "nan_all=df.isnull()\n",
    "print(nan_all)"
   ]
  },
  {
   "cell_type": "code",
   "execution_count": 4,
   "metadata": {},
   "outputs": [],
   "source": [
    "nan_col1=df.isnull().any()\n",
    "nan_col2=df.isnull().all()"
   ]
  },
  {
   "cell_type": "code",
   "execution_count": 5,
   "metadata": {},
   "outputs": [
    {
     "name": "stdout",
     "output_type": "stream",
     "text": [
      "col1    False\n",
      "col2     True\n",
      "col3    False\n",
      "col4     True\n",
      "dtype: bool\n"
     ]
    }
   ],
   "source": [
    "## 获得含有na的列\n",
    "print(nan_col1)"
   ]
  },
  {
   "cell_type": "code",
   "execution_count": 6,
   "metadata": {},
   "outputs": [
    {
     "name": "stdout",
     "output_type": "stream",
     "text": [
      "col1    False\n",
      "col2    False\n",
      "col3    False\n",
      "col4    False\n",
      "dtype: bool\n"
     ]
    }
   ],
   "source": [
    "# 获得全部为na的列\n",
    "print(nan_col2)"
   ]
  },
  {
   "cell_type": "code",
   "execution_count": null,
   "metadata": {},
   "outputs": [],
   "source": []
  },
  {
   "cell_type": "code",
   "execution_count": 7,
   "metadata": {},
   "outputs": [
    {
     "name": "stdout",
     "output_type": "stream",
     "text": [
      "        col1      col2      col3      col4\n",
      "0  -1.304651  0.923036  0.386671  0.283213\n",
      "2   0.152713 -0.631102  0.215356 -0.244788\n",
      "3   1.374712  1.135909  0.234408  0.462964\n",
      "5   0.390509  0.257922  0.263039  1.478146\n",
      "6  -0.298413  1.257356 -0.341082 -1.199408\n",
      "..       ...       ...       ...       ...\n",
      "95 -1.633138 -0.359680 -1.274154 -1.130256\n",
      "96  0.451450  1.189453 -1.336748 -0.299288\n",
      "97 -0.547945  1.310752 -0.998328 -0.615632\n",
      "98  0.171874 -1.482310 -2.203544  1.249701\n",
      "99 -0.120466 -0.317151 -2.162981 -0.170375\n",
      "\n",
      "[98 rows x 4 columns]\n"
     ]
    }
   ],
   "source": [
    "df2=df.dropna()\n",
    "print(df2)"
   ]
  },
  {
   "cell_type": "code",
   "execution_count": 8,
   "metadata": {},
   "outputs": [
    {
     "data": {
      "text/plain": [
       "(98, 4)"
      ]
     },
     "execution_count": 8,
     "metadata": {},
     "output_type": "execute_result"
    }
   ],
   "source": [
    "df2.shape"
   ]
  },
  {
   "cell_type": "code",
   "execution_count": 9,
   "metadata": {},
   "outputs": [
    {
     "data": {
      "text/plain": [
       "(100, 4)"
      ]
     },
     "execution_count": 9,
     "metadata": {},
     "output_type": "execute_result"
    }
   ],
   "source": [
    "df.shape"
   ]
  },
  {
   "cell_type": "code",
   "execution_count": null,
   "metadata": {},
   "outputs": [],
   "source": []
  },
  {
   "cell_type": "code",
   "execution_count": null,
   "metadata": {},
   "outputs": [],
   "source": []
  },
  {
   "cell_type": "markdown",
   "metadata": {},
   "source": [
    "### sklearn.preprocessing.Imputer¶\n",
    "\n",
    "https://scikit-learn.org/0.15/modules/generated/sklearn.preprocessing.Imputer.html\n",
    "    \n",
    "https://scikit-learn.org/stable/modules/generated/sklearn.impute.SimpleImputer.html"
   ]
  },
  {
   "cell_type": "code",
   "execution_count": 10,
   "metadata": {},
   "outputs": [
    {
     "name": "stdout",
     "output_type": "stream",
     "text": [
      "SimpleImputer()\n"
     ]
    }
   ],
   "source": [
    "## 将缺失值替换为特定值 \n",
    "## 将值为Nan的缺失值用均值做替换\n",
    "nan_model=SimpleImputer(missing_values=np.nan,strategy='mean')\n",
    "nan_result=nan_model.fit(df)\n",
    "print(nan_result)"
   ]
  },
  {
   "cell_type": "code",
   "execution_count": 11,
   "metadata": {},
   "outputs": [
    {
     "name": "stdout",
     "output_type": "stream",
     "text": [
      "        col1      col2      col3      col4\n",
      "0  -1.304651  0.923036  0.386671  0.283213\n",
      "1  -0.739947       NaN -0.238299 -0.283137\n",
      "2   0.152713 -0.631102  0.215356 -0.244788\n",
      "3   1.374712  1.135909  0.234408  0.462964\n",
      "4  -0.157082 -0.996825  1.951375       NaN\n",
      "..       ...       ...       ...       ...\n",
      "95 -1.633138 -0.359680 -1.274154 -1.130256\n",
      "96  0.451450  1.189453 -1.336748 -0.299288\n",
      "97 -0.547945  1.310752 -0.998328 -0.615632\n",
      "98  0.171874 -1.482310 -2.203544  1.249701\n",
      "99 -0.120466 -0.317151 -2.162981 -0.170375\n",
      "\n",
      "[100 rows x 4 columns]\n"
     ]
    }
   ],
   "source": [
    "print(df)"
   ]
  },
  {
   "cell_type": "code",
   "execution_count": 12,
   "metadata": {},
   "outputs": [
    {
     "data": {
      "text/plain": [
       "0.392983945"
      ]
     },
     "execution_count": 12,
     "metadata": {},
     "output_type": "execute_result"
    }
   ],
   "source": [
    "statistics.mean([0.40508527, 0.04641579 , 1.12043472,0])"
   ]
  },
  {
   "cell_type": "code",
   "execution_count": 13,
   "metadata": {},
   "outputs": [
    {
     "data": {
      "text/plain": [
       "-0.5230595"
      ]
     },
     "execution_count": 13,
     "metadata": {},
     "output_type": "execute_result"
    }
   ],
   "source": [
    "statistics.mean([-1.208784,0, -0.903849 , 0.020395])"
   ]
  },
  {
   "cell_type": "code",
   "execution_count": null,
   "metadata": {},
   "outputs": [],
   "source": []
  },
  {
   "cell_type": "code",
   "execution_count": null,
   "metadata": {},
   "outputs": [],
   "source": []
  },
  {
   "cell_type": "markdown",
   "metadata": {},
   "source": [
    "## 异常值的处理"
   ]
  },
  {
   "cell_type": "code",
   "execution_count": 14,
   "metadata": {},
   "outputs": [
    {
     "name": "stdout",
     "output_type": "stream",
     "text": [
      "   col1  col2\n",
      "0     1    12\n",
      "1   120    17\n",
      "2     3    31\n",
      "3     5    53\n",
      "4     2    22\n",
      "5    12    32\n",
      "6    13    43\n"
     ]
    }
   ],
   "source": [
    "df1= pd.DataFrame({'col1':[1,120,3,5,2,12,13], 'col2':[12,17,31,53,22,32,43]})\n",
    "print(df1)"
   ]
  },
  {
   "cell_type": "code",
   "execution_count": null,
   "metadata": {},
   "outputs": [],
   "source": []
  },
  {
   "cell_type": "code",
   "execution_count": 15,
   "metadata": {},
   "outputs": [
    {
     "name": "stdout",
     "output_type": "stream",
     "text": [
      "    col1   col2\n",
      "0  False  False\n",
      "1   True  False\n",
      "2  False  False\n",
      "3  False  False\n",
      "4  False  False\n",
      "5  False  False\n",
      "6  False  False\n"
     ]
    }
   ],
   "source": [
    "## 通过z-score方法判断异常值\n",
    "##获得数据框的列名\n",
    "## 循环读取每一列\n",
    "## 得到每列的值\n",
    "# 计算每一列z-score的得分\n",
    "## 判断z-score是否大于2.2\n",
    "\n",
    "\n",
    "df1_zscore=df1.copy()\n",
    "cols1=df1.columns\n",
    "for col in cols1:\n",
    "    df1_col=df1[col]\n",
    "    z_score=(df1_col-df1_col.mean())/df1_col.std()\n",
    "    df1_zscore[col]=z_score.abs()> 2.2\n",
    "print(df1_zscore)"
   ]
  },
  {
   "cell_type": "markdown",
   "metadata": {},
   "source": [
    "本示例方法中，阀值的设定是确定异常与否的关键，通常当阀值大于2时，已经是相对异常的表现值。\n",
    "上述过程中，主要需要考虑的关键点是的：如何判断异常值。对于有guiding业务规则的可直接套用业务规则，而对于没有固定业务规则的，可以采用常见\n",
    "的数学模型进行判断，即基于概率分布的模型（例如正态分布的标准差范围），基于类聚的方法（例如kmeans),基于密度的方法（例如lof),机遇分类的方法\n",
    "（例如knn),机遇统计的方法（例如分为数法）等。\n"
   ]
  },
  {
   "cell_type": "code",
   "execution_count": null,
   "metadata": {},
   "outputs": [],
   "source": []
  },
  {
   "cell_type": "code",
   "execution_count": null,
   "metadata": {},
   "outputs": [],
   "source": []
  },
  {
   "cell_type": "markdown",
   "metadata": {},
   "source": [
    "## 重复性处理"
   ]
  },
  {
   "cell_type": "code",
   "execution_count": 16,
   "metadata": {},
   "outputs": [
    {
     "name": "stdout",
     "output_type": "stream",
     "text": [
      "  col1  col2\n",
      "0    a     3\n",
      "1    b     2\n",
      "2    a     3\n",
      "3    c     2\n"
     ]
    }
   ],
   "source": [
    "data1=['a',3]\n",
    "data2=['b',2]\n",
    "data3=['a',3]\n",
    "data4=['c',2]\n",
    "\n",
    "df2=pd.DataFrame([data1,data2,data3,data4],columns=['col1','col2'])\n",
    "print(df2)"
   ]
  },
  {
   "cell_type": "code",
   "execution_count": null,
   "metadata": {},
   "outputs": [],
   "source": []
  },
  {
   "cell_type": "code",
   "execution_count": 17,
   "metadata": {},
   "outputs": [
    {
     "name": "stdout",
     "output_type": "stream",
     "text": [
      "0    False\n",
      "1    False\n",
      "2     True\n",
      "3    False\n",
      "dtype: bool\n"
     ]
    }
   ],
   "source": [
    "# 判断重复数据\n",
    "\n",
    "isDuplicated= df2.duplicated()\n",
    "print(isDuplicated)"
   ]
  },
  {
   "cell_type": "code",
   "execution_count": null,
   "metadata": {},
   "outputs": [],
   "source": []
  },
  {
   "cell_type": "code",
   "execution_count": null,
   "metadata": {},
   "outputs": [],
   "source": []
  },
  {
   "cell_type": "code",
   "execution_count": 18,
   "metadata": {},
   "outputs": [
    {
     "name": "stdout",
     "output_type": "stream",
     "text": [
      "  col1  col2\n",
      "0    a     3\n",
      "1    b     2\n",
      "3    c     2\n",
      "  col1  col2\n",
      "0    a     3\n",
      "1    b     2\n",
      "3    c     2\n",
      "  col1  col2\n",
      "0    a     3\n",
      "1    b     2\n",
      "  col1  col2\n",
      "0    a     3\n",
      "1    b     2\n",
      "3    c     2\n"
     ]
    }
   ],
   "source": [
    "## 切除重复值\n",
    "\n",
    "new_df1=df2.drop_duplicates()\n",
    "new_df2=df2.drop_duplicates(['col1'])\n",
    "new_df3=df2.drop_duplicates(['col2'])\n",
    "new_df4=df2.drop_duplicates(['col1','col2'])\n",
    "\n",
    "print (new_df1);\n",
    "print (new_df2);\n",
    "print (new_df3);\n",
    "print (new_df4);"
   ]
  },
  {
   "cell_type": "code",
   "execution_count": null,
   "metadata": {},
   "outputs": [],
   "source": []
  },
  {
   "cell_type": "code",
   "execution_count": null,
   "metadata": {},
   "outputs": [],
   "source": []
  },
  {
   "cell_type": "markdown",
   "metadata": {},
   "source": [
    "## 将分类数据和顺序数据转换为标志变量"
   ]
  },
  {
   "cell_type": "code",
   "execution_count": null,
   "metadata": {},
   "outputs": [],
   "source": []
  },
  {
   "cell_type": "code",
   "execution_count": 19,
   "metadata": {},
   "outputs": [
    {
     "name": "stdout",
     "output_type": "stream",
     "text": [
      "        id     sex   level\n",
      "0  3566841    Male    high\n",
      "1  6541227  Female     low\n",
      "2  3512441  Female  middle\n"
     ]
    }
   ],
   "source": [
    "df3=pd.DataFrame({'id':[3566841,6541227,3512441], 'sex':['Male','Female','Female'],'level':['high','low','middle']})\n",
    "print(df3)"
   ]
  },
  {
   "cell_type": "code",
   "execution_count": 20,
   "metadata": {},
   "outputs": [
    {
     "name": "stdout",
     "output_type": "stream",
     "text": [
      "        id  sex_Male  sex_Female  level_high  level_low  level_middle\n",
      "0  3566841      True       False        True      False         False\n",
      "1  6541227     False        True       False       True         False\n",
      "2  3512441     False        True       False      False          True\n"
     ]
    }
   ],
   "source": [
    "df_new=df3.copy()\n",
    "for col_num, col_name in enumerate(df3):\n",
    "    col_data=df3[col_name]\n",
    "    col_dtype=col_data.dtype\n",
    "    if col_dtype == 'object':\n",
    "        df_new=df_new.drop(col_name,1)\n",
    "        value_sets=col_data.unique()\n",
    "        for value_unique in value_sets:\n",
    "            col_name_new = col_name + '_'+value_unique\n",
    "            col_tmp=df3.iloc[:, col_num]\n",
    "            new_col=(col_tmp == value_unique)\n",
    "            df_new[col_name_new]=new_col\n",
    "print(df_new)"
   ]
  },
  {
   "cell_type": "code",
   "execution_count": null,
   "metadata": {},
   "outputs": [],
   "source": []
  },
  {
   "cell_type": "code",
   "execution_count": 21,
   "metadata": {},
   "outputs": [
    {
     "name": "stdout",
     "output_type": "stream",
     "text": [
      "         0    0    1    2    3    4\n",
      "0  3566841  1.0  0.0  0.0  0.0  1.0\n",
      "1  6541227  0.0  1.0  1.0  0.0  0.0\n",
      "2  3512441  0.0  1.0  0.0  1.0  0.0\n"
     ]
    }
   ],
   "source": [
    "# 使用sklearn进行标志转换\n",
    "\n",
    "from sklearn.preprocessing import OneHotEncoder\n",
    "\n",
    "df10=pd.DataFrame({'id':[3566841,6541227,3512441], 'sex':[1,2,2],'level':[3,1,2]})\n",
    "\n",
    "id_data=df10.values[:, :1]\n",
    "transform_data=df10.values[:, 1:]\n",
    "enc=OneHotEncoder(handle_unknown='ignore')\n",
    "df10_new=enc.fit_transform(transform_data).toarray()\n",
    "df10_all=pd.concat((pd.DataFrame(id_data),pd.DataFrame(df10_new)),axis=1)\n",
    "print(df10_all)\n"
   ]
  },
  {
   "cell_type": "code",
   "execution_count": 22,
   "metadata": {},
   "outputs": [
    {
     "data": {
      "text/html": [
       "<div>\n",
       "<style scoped>\n",
       "    .dataframe tbody tr th:only-of-type {\n",
       "        vertical-align: middle;\n",
       "    }\n",
       "\n",
       "    .dataframe tbody tr th {\n",
       "        vertical-align: top;\n",
       "    }\n",
       "\n",
       "    .dataframe thead th {\n",
       "        text-align: right;\n",
       "    }\n",
       "</style>\n",
       "<table border=\"1\" class=\"dataframe\">\n",
       "  <thead>\n",
       "    <tr style=\"text-align: right;\">\n",
       "      <th></th>\n",
       "      <th>id</th>\n",
       "      <th>sex</th>\n",
       "      <th>level</th>\n",
       "    </tr>\n",
       "  </thead>\n",
       "  <tbody>\n",
       "    <tr>\n",
       "      <th>0</th>\n",
       "      <td>3566841</td>\n",
       "      <td>1</td>\n",
       "      <td>3</td>\n",
       "    </tr>\n",
       "    <tr>\n",
       "      <th>1</th>\n",
       "      <td>6541227</td>\n",
       "      <td>2</td>\n",
       "      <td>1</td>\n",
       "    </tr>\n",
       "    <tr>\n",
       "      <th>2</th>\n",
       "      <td>3512441</td>\n",
       "      <td>2</td>\n",
       "      <td>2</td>\n",
       "    </tr>\n",
       "  </tbody>\n",
       "</table>\n",
       "</div>"
      ],
      "text/plain": [
       "        id  sex  level\n",
       "0  3566841    1      3\n",
       "1  6541227    2      1\n",
       "2  3512441    2      2"
      ]
     },
     "execution_count": 22,
     "metadata": {},
     "output_type": "execute_result"
    }
   ],
   "source": [
    "df10"
   ]
  },
  {
   "cell_type": "code",
   "execution_count": 23,
   "metadata": {},
   "outputs": [
    {
     "data": {
      "text/plain": [
       "array([[1, 3],\n",
       "       [2, 1],\n",
       "       [2, 2]])"
      ]
     },
     "execution_count": 23,
     "metadata": {},
     "output_type": "execute_result"
    }
   ],
   "source": [
    "transform_data"
   ]
  },
  {
   "cell_type": "code",
   "execution_count": 24,
   "metadata": {},
   "outputs": [
    {
     "data": {
      "text/plain": [
       "array([[1., 0., 0., 0., 1.],\n",
       "       [0., 1., 1., 0., 0.],\n",
       "       [0., 1., 0., 1., 0.]])"
      ]
     },
     "execution_count": 24,
     "metadata": {},
     "output_type": "execute_result"
    }
   ],
   "source": [
    "df10_new"
   ]
  },
  {
   "cell_type": "code",
   "execution_count": null,
   "metadata": {},
   "outputs": [],
   "source": []
  },
  {
   "cell_type": "code",
   "execution_count": null,
   "metadata": {},
   "outputs": [],
   "source": []
  },
  {
   "cell_type": "markdown",
   "metadata": {},
   "source": [
    "##  大数据时代数据化运营降维"
   ]
  },
  {
   "cell_type": "code",
   "execution_count": 25,
   "metadata": {},
   "outputs": [
    {
     "name": "stdout",
     "output_type": "stream",
     "text": [
      "[ 1.88622997  1.31785876 -0.16480621  0.56536882 -1.11934542 -0.53218995\n",
      " -0.6843102   1.24149827  1.00579225  0.45485041] 0.0\n",
      "[0.03331054 0.01513967 0.02199713 0.119727   0.47930312 0.04776297\n",
      " 0.17111746 0.02585441 0.02012725 0.06566044]\n",
      "[[ 7.18818316e-03  1.41619205e-02  1.00543847e-02  3.65097575e-01\n",
      "   6.38944537e-01 -1.95750380e-02 -1.73413378e-01 -3.80829974e-02\n",
      "  -2.87413113e-03 -6.52829504e-01]\n",
      " [ 1.01307710e-02 -1.95270201e-04 -2.33689543e-02 -6.12915216e-01\n",
      "   5.08983971e-01 -2.23429533e-02  6.02958940e-01 -1.49061329e-02\n",
      "  -1.81362216e-02 -3.41623971e-03]]\n",
      "[4.22602937 2.21149972]\n",
      "[3.38339364e-01 1.77054475e-01 8.92753857e-02 8.73655166e-02\n",
      " 8.23542686e-02 8.03329836e-02 7.38094896e-02 7.14685179e-02\n",
      " 3.31291533e-32 4.66241032e-33]\n"
     ]
    }
   ],
   "source": [
    "\n",
    "import numpy as np\n",
    "from sklearn.tree import DecisionTreeClassifier\n",
    "from sklearn.decomposition import PCA\n",
    "\n",
    "# 读取数据文件\n",
    "data = np.loadtxt('/Users/balance/Desktop/python data analysis concept reference/data1.txt')  # 读取文本数据文件\n",
    "x = data[:, :-1]  # 获得输入的x\n",
    "y = data[:, -1]  # 获得目标变量y\n",
    "print (x[0], y[0])  # 打印输出x和y的第一条记录\n",
    "\n",
    "# 使用sklearn的DecisionTreeClassifier判断变量重要性\n",
    "model_tree = DecisionTreeClassifier(random_state=0)  # 建立分类决策树模型对象\n",
    "model_tree.fit(x, y)  # 将数据集的维度和目标变量输入模型\n",
    "feature_importance = model_tree.feature_importances_  # 获得所有变量的重要性得分\n",
    "print (feature_importance)  # 打印输出\n",
    "\n",
    "# 使用sklearn的PCA进行维度转换\n",
    "model_pca = PCA()  # 建立PCA模型对象\n",
    "model_pca.fit(x)  # 将数据集输入模型\n",
    "model_pca.transform(x)  # 对数据集进行转换映射\n",
    "components = model_pca.components_  # 获得转换后的所有主成分\n",
    "components_var = model_pca.explained_variance_  # 获得各主成分的方差\n",
    "components_var_ratio = model_pca.explained_variance_ratio_  # 获得各主成分的方差占比\n",
    "print (components[:2])  # 打印输出前2个主成分\n",
    "print (components_var[:2])  # 打印输出前2个主成分的方差\n",
    "print (components_var_ratio)  # 打印输出所有主成分的方差占比"
   ]
  },
  {
   "cell_type": "code",
   "execution_count": null,
   "metadata": {},
   "outputs": [],
   "source": []
  },
  {
   "cell_type": "code",
   "execution_count": 26,
   "metadata": {},
   "outputs": [
    {
     "data": {
      "text/plain": [
       "(1000, 11)"
      ]
     },
     "execution_count": 26,
     "metadata": {},
     "output_type": "execute_result"
    }
   ],
   "source": [
    "data.shape"
   ]
  },
  {
   "cell_type": "code",
   "execution_count": 27,
   "metadata": {},
   "outputs": [
    {
     "data": {
      "text/plain": [
       "(array([[ 1.88622997,  1.31785876, -0.16480621, ...,  1.24149827,\n",
       "          1.00579225,  0.45485041],\n",
       "        [ 0.45016257,  0.67080853, -1.16571355, ..., -0.94946505,\n",
       "         -0.33194209, -2.94399437],\n",
       "        [ 0.48158666,  0.33524676,  0.72210929, ...,  1.46919579,\n",
       "         -1.68387822,  1.44933243],\n",
       "        ...,\n",
       "        [ 0.36101381, -1.10383044,  1.2656558 , ...,  0.96446047,\n",
       "          2.61770545, -1.14168056],\n",
       "        [ 0.88695058,  0.75897958, -1.16120866, ...,  1.1150845 ,\n",
       "         -1.57791648, -1.52150761],\n",
       "        [ 0.15444084, -0.27528562,  0.77045662, ...,  0.03157817,\n",
       "         -0.54756984,  0.95966265]]),\n",
       " array([0., 1., 1., 1., 0., 1., 0., 1., 0., 1., 1., 0., 1., 1., 0., 1., 0.,\n",
       "        0., 1., 0., 1., 0., 0., 1., 0., 1., 0., 0., 0., 0., 0., 1., 1., 0.,\n",
       "        1., 0., 0., 1., 0., 1., 1., 0., 1., 1., 0., 0., 1., 1., 1., 0., 0.,\n",
       "        0., 1., 0., 0., 0., 1., 1., 0., 1., 0., 0., 1., 1., 1., 0., 1., 0.,\n",
       "        0., 1., 1., 1., 1., 1., 0., 0., 0., 1., 0., 0., 0., 0., 0., 0., 1.,\n",
       "        1., 1., 1., 0., 1., 1., 0., 1., 0., 0., 1., 0., 0., 0., 0., 0., 1.,\n",
       "        0., 0., 0., 0., 1., 1., 1., 1., 1., 1., 1., 0., 1., 1., 0., 0., 1.,\n",
       "        1., 0., 0., 0., 0., 0., 1., 0., 0., 0., 1., 0., 1., 0., 1., 0., 0.,\n",
       "        0., 0., 0., 0., 1., 1., 0., 0., 0., 1., 1., 0., 0., 0., 1., 1., 1.,\n",
       "        0., 0., 1., 1., 0., 0., 1., 0., 1., 1., 1., 0., 0., 0., 0., 1., 0.,\n",
       "        0., 1., 1., 0., 1., 0., 0., 1., 1., 1., 1., 1., 0., 1., 0., 0., 1.,\n",
       "        1., 0., 1., 1., 1., 0., 1., 1., 1., 1., 1., 0., 1., 1., 0., 1., 0.,\n",
       "        0., 0., 1., 1., 0., 0., 1., 0., 0., 0., 0., 0., 0., 1., 1., 0., 1.,\n",
       "        1., 0., 0., 0., 0., 1., 0., 1., 0., 0., 0., 1., 0., 1., 1., 1., 1.,\n",
       "        1., 0., 1., 0., 1., 0., 0., 1., 1., 1., 1., 1., 1., 1., 0., 1., 0.,\n",
       "        1., 1., 0., 1., 0., 1., 0., 0., 1., 1., 1., 1., 1., 0., 0., 0., 1.,\n",
       "        0., 0., 1., 1., 0., 1., 1., 1., 0., 0., 0., 1., 0., 1., 0., 1., 1.,\n",
       "        0., 1., 1., 0., 1., 0., 0., 1., 0., 1., 0., 0., 0., 0., 1., 0., 0.,\n",
       "        1., 0., 0., 1., 1., 0., 1., 1., 1., 0., 0., 0., 0., 1., 0., 1., 0.,\n",
       "        1., 1., 0., 0., 1., 1., 1., 0., 1., 0., 0., 0., 0., 1., 1., 0., 1.,\n",
       "        0., 1., 1., 1., 0., 1., 1., 0., 1., 1., 1., 1., 1., 0., 1., 1., 1.,\n",
       "        1., 0., 0., 0., 1., 0., 0., 1., 1., 1., 0., 0., 1., 0., 0., 0., 0.,\n",
       "        0., 0., 1., 0., 1., 1., 1., 0., 1., 1., 1., 0., 0., 1., 1., 0., 0.,\n",
       "        1., 0., 1., 1., 0., 0., 0., 0., 0., 0., 0., 0., 0., 0., 0., 1., 0.,\n",
       "        1., 1., 0., 1., 1., 1., 0., 0., 0., 0., 0., 0., 1., 0., 1., 1., 1.,\n",
       "        0., 1., 0., 1., 0., 0., 1., 0., 0., 1., 0., 0., 0., 0., 1., 1., 1.,\n",
       "        0., 1., 0., 0., 0., 1., 1., 1., 1., 1., 0., 1., 1., 0., 1., 0., 1.,\n",
       "        1., 1., 1., 1., 1., 0., 1., 0., 0., 1., 1., 1., 0., 1., 0., 1., 0.,\n",
       "        0., 1., 1., 1., 1., 0., 0., 0., 0., 0., 0., 0., 0., 0., 1., 1., 0.,\n",
       "        1., 0., 0., 0., 1., 1., 1., 1., 1., 0., 1., 1., 1., 0., 1., 0., 1.,\n",
       "        0., 0., 0., 1., 1., 0., 0., 1., 1., 1., 0., 1., 0., 1., 0., 0., 1.,\n",
       "        1., 0., 1., 0., 1., 0., 0., 1., 0., 1., 0., 0., 0., 0., 0., 1., 1.,\n",
       "        0., 0., 0., 1., 1., 0., 0., 0., 0., 0., 0., 0., 1., 1., 1., 1., 0.,\n",
       "        1., 0., 0., 0., 0., 1., 0., 0., 1., 1., 1., 0., 1., 1., 1., 1., 1.,\n",
       "        1., 1., 0., 0., 1., 0., 1., 0., 1., 1., 0., 0., 0., 1., 1., 1., 1.,\n",
       "        1., 0., 0., 1., 1., 0., 0., 1., 1., 1., 1., 1., 0., 1., 0., 1., 0.,\n",
       "        1., 0., 0., 0., 0., 1., 0., 0., 1., 1., 0., 1., 1., 0., 0., 1., 0.,\n",
       "        0., 1., 1., 0., 0., 1., 1., 1., 1., 1., 1., 1., 1., 0., 0., 0., 0.,\n",
       "        1., 0., 1., 0., 1., 0., 1., 1., 1., 1., 0., 1., 1., 1., 1., 1., 0.,\n",
       "        1., 1., 0., 0., 1., 0., 1., 1., 0., 1., 0., 1., 1., 1., 1., 0., 1.,\n",
       "        0., 1., 0., 1., 1., 1., 1., 1., 1., 0., 1., 1., 0., 1., 0., 1., 0.,\n",
       "        1., 0., 1., 1., 0., 1., 1., 0., 1., 1., 0., 0., 0., 1., 0., 0., 0.,\n",
       "        0., 0., 0., 1., 1., 1., 1., 1., 0., 1., 1., 0., 0., 0., 0., 1., 0.,\n",
       "        0., 0., 1., 0., 1., 1., 0., 0., 1., 0., 1., 0., 1., 0., 1., 1., 0.,\n",
       "        0., 1., 0., 0., 1., 1., 0., 0., 1., 1., 0., 0., 0., 0., 1., 1., 0.,\n",
       "        0., 0., 1., 1., 0., 0., 1., 1., 1., 1., 0., 1., 0., 1., 0., 0., 0.,\n",
       "        1., 1., 0., 0., 0., 1., 1., 1., 0., 0., 1., 0., 0., 1., 1., 0., 1.,\n",
       "        0., 1., 1., 1., 0., 1., 0., 0., 1., 0., 1., 1., 0., 1., 0., 0., 0.,\n",
       "        1., 1., 1., 0., 1., 0., 1., 0., 1., 1., 1., 0., 0., 0., 1., 0., 1.,\n",
       "        0., 0., 0., 1., 1., 0., 0., 1., 1., 1., 0., 1., 0., 1., 0., 0., 0.,\n",
       "        0., 1., 1., 1., 1., 1., 1., 1., 0., 1., 1., 1., 1., 0., 1., 1., 0.,\n",
       "        0., 0., 0., 0., 1., 1., 0., 0., 0., 0., 1., 0., 0., 1., 0., 0., 1.,\n",
       "        1., 1., 1., 1., 0., 0., 0., 1., 0., 0., 0., 1., 0., 1., 1., 1., 0.,\n",
       "        1., 1., 1., 1., 0., 0., 1., 1., 1., 0., 0., 1., 1., 0., 0., 1., 0.,\n",
       "        1., 1., 0., 0., 1., 0., 1., 1., 0., 0., 1., 0., 1., 0., 1., 1., 0.,\n",
       "        0., 1., 0., 0., 0., 0., 0., 0., 0., 1., 0., 1., 1., 0., 1., 1., 1.,\n",
       "        0., 0., 0., 1., 1., 1., 0., 0., 1., 0., 1., 0., 1., 0., 1., 1., 1.,\n",
       "        0., 1., 0., 1., 1., 1., 0., 1., 1., 0., 0., 0., 0., 0., 0., 0., 1.,\n",
       "        1., 1., 0., 1., 0., 0., 1., 0., 0., 1., 1., 1., 0., 0.]))"
      ]
     },
     "execution_count": 27,
     "metadata": {},
     "output_type": "execute_result"
    }
   ],
   "source": [
    "x,y"
   ]
  },
  {
   "cell_type": "code",
   "execution_count": 28,
   "metadata": {},
   "outputs": [
    {
     "data": {
      "text/plain": [
       "array([[ 1.88622997,  1.31785876, -0.16480621, ...,  1.00579225,\n",
       "         0.45485041,  0.        ],\n",
       "       [ 0.45016257,  0.67080853, -1.16571355, ..., -0.33194209,\n",
       "        -2.94399437,  1.        ],\n",
       "       [ 0.48158666,  0.33524676,  0.72210929, ..., -1.68387822,\n",
       "         1.44933243,  1.        ],\n",
       "       ...,\n",
       "       [ 0.36101381, -1.10383044,  1.2656558 , ...,  2.61770545,\n",
       "        -1.14168056,  1.        ],\n",
       "       [ 0.88695058,  0.75897958, -1.16120866, ..., -1.57791648,\n",
       "        -1.52150761,  0.        ],\n",
       "       [ 0.15444084, -0.27528562,  0.77045662, ..., -0.54756984,\n",
       "         0.95966265,  0.        ]])"
      ]
     },
     "execution_count": 28,
     "metadata": {},
     "output_type": "execute_result"
    }
   ],
   "source": [
    "data"
   ]
  },
  {
   "cell_type": "code",
   "execution_count": 29,
   "metadata": {},
   "outputs": [
    {
     "name": "stdout",
     "output_type": "stream",
     "text": [
      "[ 1.88622997  1.31785876 -0.16480621  0.56536882 -1.11934542 -0.53218995\n",
      " -0.6843102   1.24149827  1.00579225  0.45485041] 0.0\n"
     ]
    }
   ],
   "source": [
    "print (x[0], y[0])  # 打印输出x和y的第一条记录"
   ]
  },
  {
   "cell_type": "code",
   "execution_count": 30,
   "metadata": {},
   "outputs": [
    {
     "name": "stdout",
     "output_type": "stream",
     "text": [
      "[0.03331054 0.01513967 0.02199713 0.119727   0.47930312 0.04776297\n",
      " 0.17111746 0.02585441 0.02012725 0.06566044]\n"
     ]
    }
   ],
   "source": [
    "print (feature_importance)  # 打印输出变量重要性"
   ]
  },
  {
   "cell_type": "code",
   "execution_count": 31,
   "metadata": {},
   "outputs": [
    {
     "name": "stdout",
     "output_type": "stream",
     "text": [
      "[[ 7.18818316e-03  1.41619205e-02  1.00543847e-02  3.65097575e-01\n",
      "   6.38944537e-01 -1.95750380e-02 -1.73413378e-01 -3.80829974e-02\n",
      "  -2.87413113e-03 -6.52829504e-01]\n",
      " [ 1.01307710e-02 -1.95270201e-04 -2.33689543e-02 -6.12915216e-01\n",
      "   5.08983971e-01 -2.23429533e-02  6.02958940e-01 -1.49061329e-02\n",
      "  -1.81362216e-02 -3.41623971e-03]]\n"
     ]
    }
   ],
   "source": [
    "print (components[:2])# 打印输出前2个主成分"
   ]
  },
  {
   "cell_type": "code",
   "execution_count": 32,
   "metadata": {},
   "outputs": [
    {
     "name": "stdout",
     "output_type": "stream",
     "text": [
      "[4.22602937 2.21149972]\n"
     ]
    }
   ],
   "source": [
    "print (components_var[:2]) # 打印输出前2个主成分的方差"
   ]
  },
  {
   "cell_type": "code",
   "execution_count": 33,
   "metadata": {},
   "outputs": [
    {
     "name": "stdout",
     "output_type": "stream",
     "text": [
      "[3.38339364e-01 1.77054475e-01 8.92753857e-02 8.73655166e-02\n",
      " 8.23542686e-02 8.03329836e-02 7.38094896e-02 7.14685179e-02\n",
      " 3.31291533e-32 4.66241032e-33]\n"
     ]
    }
   ],
   "source": [
    "print (components_var_ratio)  # 打印输出所有主成分的方差占比"
   ]
  },
  {
   "cell_type": "code",
   "execution_count": null,
   "metadata": {},
   "outputs": [],
   "source": []
  },
  {
   "cell_type": "markdown",
   "metadata": {},
   "source": [
    "## 解决样本类别分布不均衡的问题"
   ]
  },
  {
   "cell_type": "code",
   "execution_count": 43,
   "metadata": {},
   "outputs": [
    {
     "name": "stdout",
     "output_type": "stream",
     "text": [
      "Collecting imblearn\n",
      "  Downloading imblearn-0.0-py2.py3-none-any.whl (1.9 kB)\n",
      "Collecting imbalanced-learn\n",
      "  Downloading imbalanced_learn-0.8.0-py3-none-any.whl (206 kB)\n",
      "\u001b[K     |████████████████████████████████| 206 kB 1.2 MB/s eta 0:00:01\n",
      "\u001b[?25hRequirement already satisfied: scipy>=0.19.1 in /opt/anaconda3/lib/python3.7/site-packages (from imbalanced-learn->imblearn) (1.5.2)\n",
      "Requirement already satisfied: joblib>=0.11 in /opt/anaconda3/lib/python3.7/site-packages (from imbalanced-learn->imblearn) (0.17.0)\n",
      "Requirement already satisfied: numpy>=1.13.3 in /opt/anaconda3/lib/python3.7/site-packages (from imbalanced-learn->imblearn) (1.19.2)\n",
      "Collecting scikit-learn>=0.24\n",
      "  Downloading scikit_learn-1.0-cp37-cp37m-macosx_10_13_x86_64.whl (7.9 MB)\n",
      "\u001b[K     |████████████████████████████████| 7.9 MB 4.9 MB/s eta 0:00:01\n",
      "\u001b[?25hRequirement already satisfied: threadpoolctl>=2.0.0 in /opt/anaconda3/lib/python3.7/site-packages (from scikit-learn>=0.24->imbalanced-learn->imblearn) (2.1.0)\n",
      "Installing collected packages: scikit-learn, imbalanced-learn, imblearn\n",
      "  Attempting uninstall: scikit-learn\n",
      "    Found existing installation: scikit-learn 0.23.2\n",
      "    Uninstalling scikit-learn-0.23.2:\n",
      "      Successfully uninstalled scikit-learn-0.23.2\n",
      "Successfully installed imbalanced-learn-0.8.0 imblearn-0.0 scikit-learn-1.0\n"
     ]
    }
   ],
   "source": [
    "!pip install imblearn"
   ]
  },
  {
   "cell_type": "code",
   "execution_count": null,
   "metadata": {},
   "outputs": [],
   "source": []
  },
  {
   "cell_type": "code",
   "execution_count": 45,
   "metadata": {},
   "outputs": [
    {
     "name": "stdout",
     "output_type": "stream",
     "text": [
      "Collecting delayed\n",
      "  Downloading delayed-0.11.0b1-py2.py3-none-any.whl (19 kB)\n",
      "Collecting redis\n",
      "  Downloading redis-3.5.3-py2.py3-none-any.whl (72 kB)\n",
      "\u001b[K     |████████████████████████████████| 72 kB 924 kB/s eta 0:00:01\n",
      "\u001b[?25hCollecting hiredis\n",
      "  Downloading hiredis-2.0.0-cp37-cp37m-macosx_10_9_x86_64.whl (24 kB)\n",
      "Installing collected packages: redis, hiredis, delayed\n",
      "Successfully installed delayed-0.11.0b1 hiredis-2.0.0 redis-3.5.3\n",
      "Note: you may need to restart the kernel to use updated packages.\n"
     ]
    }
   ],
   "source": [
    "pip install delayed"
   ]
  },
  {
   "cell_type": "code",
   "execution_count": 54,
   "metadata": {},
   "outputs": [
    {
     "name": "stdout",
     "output_type": "stream",
     "text": [
      "       col1  col2  col3  col4  col5\n",
      "label                              \n",
      "0.0     942   942   942   942   942\n",
      "1.0      58    58    58    58    58\n"
     ]
    }
   ],
   "source": [
    "\n",
    "\n",
    "from imblearn.over_sampling import SMOTE  # 过抽样处理库SMOTE\n",
    "from imblearn.under_sampling import RandomUnderSampler  # 欠抽样处理库RandomUnderSampler\n",
    "from sklearn.svm import SVC  # SVM中的分类算法SVC\n",
    "from imblearn.ensemble import EasyEnsembleClassifier  # 简单集成方法EasyEnsemble\n",
    "\n",
    "\n",
    "\n",
    "# 导入数据文件\n",
    "bjh = pd.read_table('/Users/balance/Desktop/python data analysis concept reference/data2.txt', sep=' ', names=['col1', 'col2', 'col3', 'col4', 'col5', 'label'])  # 读取数据文件\n",
    "x_bjh = bjh.iloc[:, :-1]  # 切片，得到输入x\n",
    "y_bjh = bjh.iloc[:, -1]  # 切片，得到标签y\n",
    "groupby_data_orgianl = bjh.groupby('label').count()  # 对label做分类汇总\n",
    "print (groupby_data_orgianl)  # 打印输出原始数据集样本分类分布"
   ]
  },
  {
   "cell_type": "code",
   "execution_count": 36,
   "metadata": {},
   "outputs": [
    {
     "data": {
      "text/html": [
       "<div>\n",
       "<style scoped>\n",
       "    .dataframe tbody tr th:only-of-type {\n",
       "        vertical-align: middle;\n",
       "    }\n",
       "\n",
       "    .dataframe tbody tr th {\n",
       "        vertical-align: top;\n",
       "    }\n",
       "\n",
       "    .dataframe thead th {\n",
       "        text-align: right;\n",
       "    }\n",
       "</style>\n",
       "<table border=\"1\" class=\"dataframe\">\n",
       "  <thead>\n",
       "    <tr style=\"text-align: right;\">\n",
       "      <th></th>\n",
       "      <th>col1</th>\n",
       "      <th>col2</th>\n",
       "      <th>col3</th>\n",
       "      <th>col4</th>\n",
       "      <th>col5</th>\n",
       "      <th>label</th>\n",
       "    </tr>\n",
       "  </thead>\n",
       "  <tbody>\n",
       "    <tr>\n",
       "      <th>0</th>\n",
       "      <td>1.484710</td>\n",
       "      <td>-0.567953</td>\n",
       "      <td>0.957248</td>\n",
       "      <td>-1.028711</td>\n",
       "      <td>-1.143092</td>\n",
       "      <td>0.0</td>\n",
       "    </tr>\n",
       "    <tr>\n",
       "      <th>1</th>\n",
       "      <td>-1.021847</td>\n",
       "      <td>-0.209943</td>\n",
       "      <td>0.585039</td>\n",
       "      <td>-0.625991</td>\n",
       "      <td>-0.532367</td>\n",
       "      <td>0.0</td>\n",
       "    </tr>\n",
       "    <tr>\n",
       "      <th>2</th>\n",
       "      <td>-0.418176</td>\n",
       "      <td>0.878976</td>\n",
       "      <td>-0.333351</td>\n",
       "      <td>0.371767</td>\n",
       "      <td>1.223683</td>\n",
       "      <td>0.0</td>\n",
       "    </tr>\n",
       "    <tr>\n",
       "      <th>3</th>\n",
       "      <td>0.441664</td>\n",
       "      <td>1.405135</td>\n",
       "      <td>2.334376</td>\n",
       "      <td>-2.453234</td>\n",
       "      <td>0.594130</td>\n",
       "      <td>0.0</td>\n",
       "    </tr>\n",
       "    <tr>\n",
       "      <th>4</th>\n",
       "      <td>-1.855857</td>\n",
       "      <td>1.342565</td>\n",
       "      <td>1.457096</td>\n",
       "      <td>-1.522041</td>\n",
       "      <td>0.935034</td>\n",
       "      <td>0.0</td>\n",
       "    </tr>\n",
       "    <tr>\n",
       "      <th>...</th>\n",
       "      <td>...</td>\n",
       "      <td>...</td>\n",
       "      <td>...</td>\n",
       "      <td>...</td>\n",
       "      <td>...</td>\n",
       "      <td>...</td>\n",
       "    </tr>\n",
       "    <tr>\n",
       "      <th>995</th>\n",
       "      <td>0.713214</td>\n",
       "      <td>-0.724003</td>\n",
       "      <td>1.216396</td>\n",
       "      <td>-1.307252</td>\n",
       "      <td>-1.455331</td>\n",
       "      <td>0.0</td>\n",
       "    </tr>\n",
       "    <tr>\n",
       "      <th>996</th>\n",
       "      <td>-0.669137</td>\n",
       "      <td>-1.204326</td>\n",
       "      <td>1.871553</td>\n",
       "      <td>-2.013140</td>\n",
       "      <td>-2.348712</td>\n",
       "      <td>0.0</td>\n",
       "    </tr>\n",
       "    <tr>\n",
       "      <th>997</th>\n",
       "      <td>-0.697967</td>\n",
       "      <td>0.844773</td>\n",
       "      <td>-1.424127</td>\n",
       "      <td>1.530442</td>\n",
       "      <td>1.700386</td>\n",
       "      <td>1.0</td>\n",
       "    </tr>\n",
       "    <tr>\n",
       "      <th>998</th>\n",
       "      <td>0.471606</td>\n",
       "      <td>-0.665115</td>\n",
       "      <td>1.250725</td>\n",
       "      <td>-1.342570</td>\n",
       "      <td>-1.400265</td>\n",
       "      <td>0.0</td>\n",
       "    </tr>\n",
       "    <tr>\n",
       "      <th>999</th>\n",
       "      <td>0.683708</td>\n",
       "      <td>1.349377</td>\n",
       "      <td>1.832710</td>\n",
       "      <td>-1.921135</td>\n",
       "      <td>0.764860</td>\n",
       "      <td>0.0</td>\n",
       "    </tr>\n",
       "  </tbody>\n",
       "</table>\n",
       "<p>1000 rows × 6 columns</p>\n",
       "</div>"
      ],
      "text/plain": [
       "         col1      col2      col3      col4      col5  label\n",
       "0    1.484710 -0.567953  0.957248 -1.028711 -1.143092    0.0\n",
       "1   -1.021847 -0.209943  0.585039 -0.625991 -0.532367    0.0\n",
       "2   -0.418176  0.878976 -0.333351  0.371767  1.223683    0.0\n",
       "3    0.441664  1.405135  2.334376 -2.453234  0.594130    0.0\n",
       "4   -1.855857  1.342565  1.457096 -1.522041  0.935034    0.0\n",
       "..        ...       ...       ...       ...       ...    ...\n",
       "995  0.713214 -0.724003  1.216396 -1.307252 -1.455331    0.0\n",
       "996 -0.669137 -1.204326  1.871553 -2.013140 -2.348712    0.0\n",
       "997 -0.697967  0.844773 -1.424127  1.530442  1.700386    1.0\n",
       "998  0.471606 -0.665115  1.250725 -1.342570 -1.400265    0.0\n",
       "999  0.683708  1.349377  1.832710 -1.921135  0.764860    0.0\n",
       "\n",
       "[1000 rows x 6 columns]"
      ]
     },
     "execution_count": 36,
     "metadata": {},
     "output_type": "execute_result"
    }
   ],
   "source": [
    "bjh"
   ]
  },
  {
   "cell_type": "code",
   "execution_count": 39,
   "metadata": {},
   "outputs": [
    {
     "name": "stdout",
     "output_type": "stream",
     "text": [
      "       col1  col2  col3  col4  col5\n",
      "label                              \n",
      "0.0     942   942   942   942   942\n",
      "1.0     942   942   942   942   942\n"
     ]
    }
   ],
   "source": [
    "# 使用SMOTE方法进行过抽样处理\n",
    "model_smote = SMOTE()  # 建立SMOTE模型对象\n",
    "x_smote_resampled, y_smote_resampled = model_smote.fit_resample(x_bjh, y_bjh)  # 输入数据并作过抽样处理\n",
    "x_smote_resampled = pd.DataFrame(x_smote_resampled, columns=['col1', 'col2', 'col3', 'col4', 'col5'])  # 将数据转换为数据框并命名列名\n",
    "y_smote_resampled = pd.DataFrame(y_smote_resampled, columns=['label'])  # 将数据转换为数据框并命名列名\n",
    "smote_resampled = pd.concat([x_smote_resampled, y_smote_resampled], axis=1)  # 按列合并数据框\n",
    "groupby_data_smote = smote_resampled.groupby('label').count()  # 对label做分类汇总\n",
    "print (groupby_data_smote)  # 打印输出经过SMOTE处理后的数据集样本分类分布"
   ]
  },
  {
   "cell_type": "code",
   "execution_count": null,
   "metadata": {},
   "outputs": [],
   "source": []
  },
  {
   "cell_type": "code",
   "execution_count": 92,
   "metadata": {},
   "outputs": [
    {
     "name": "stdout",
     "output_type": "stream",
     "text": [
      "       col1  col2  col3  col4  col5\n",
      "label                              \n",
      "0.0      58    58    58    58    58\n",
      "1.0      58    58    58    58    58\n"
     ]
    }
   ],
   "source": [
    "# 使用RandomUnderSampler方法进行欠抽样处理\n",
    "model_RandomUnderSampler = RandomUnderSampler()  # 建立RandomUnderSampler模型对象\n",
    "x_RandomUnderSampler_resampled, y_RandomUnderSampler_resampled = model_RandomUnderSampler.fit_resample(x_bjh, y_bjh)  # 输入数据并作欠抽样处理\n",
    "x_RandomUnderSampler_resampled = pd.DataFrame(x_RandomUnderSampler_resampled,\n",
    "                                              columns=['col1', 'col2', 'col3', 'col4', 'col5'])  # 将数据转换为数据框并命名列名\n",
    "y_RandomUnderSampler_resampled = pd.DataFrame(y_RandomUnderSampler_resampled, columns=['label'])  # 将数据转换为数据框并命名列名\n",
    "RandomUnderSampler_resampled = pd.concat([x_RandomUnderSampler_resampled, y_RandomUnderSampler_resampled],\n",
    "                                         axis=1)  # 按列合并数据框\n",
    "groupby_data_RandomUnderSampler = RandomUnderSampler_resampled.groupby('label').count()  # 对label做分类汇总\n",
    "print (groupby_data_RandomUnderSampler)  # 打印输出经过RandomUnderSampler处理后的数据集样本分类分布"
   ]
  },
  {
   "cell_type": "code",
   "execution_count": 93,
   "metadata": {},
   "outputs": [
    {
     "data": {
      "text/plain": [
       "SVC(class_weight='balanced')"
      ]
     },
     "execution_count": 93,
     "metadata": {},
     "output_type": "execute_result"
    }
   ],
   "source": [
    "# 使用SVM的权重调节处理不均衡样本\n",
    "model_svm = SVC(class_weight='balanced')  # 创建SVC模型对象并指定类别权重\n",
    "model_svm.fit(x_bjh, y_bjh)  # 输入x和y并训练模型"
   ]
  },
  {
   "cell_type": "code",
   "execution_count": 94,
   "metadata": {},
   "outputs": [
    {
     "data": {
      "text/html": [
       "<div>\n",
       "<style scoped>\n",
       "    .dataframe tbody tr th:only-of-type {\n",
       "        vertical-align: middle;\n",
       "    }\n",
       "\n",
       "    .dataframe tbody tr th {\n",
       "        vertical-align: top;\n",
       "    }\n",
       "\n",
       "    .dataframe thead th {\n",
       "        text-align: right;\n",
       "    }\n",
       "</style>\n",
       "<table border=\"1\" class=\"dataframe\">\n",
       "  <thead>\n",
       "    <tr style=\"text-align: right;\">\n",
       "      <th></th>\n",
       "      <th>col1</th>\n",
       "      <th>col2</th>\n",
       "      <th>col3</th>\n",
       "      <th>col4</th>\n",
       "      <th>col5</th>\n",
       "    </tr>\n",
       "  </thead>\n",
       "  <tbody>\n",
       "    <tr>\n",
       "      <th>0</th>\n",
       "      <td>1.484710</td>\n",
       "      <td>-0.567953</td>\n",
       "      <td>0.957248</td>\n",
       "      <td>-1.028711</td>\n",
       "      <td>-1.143092</td>\n",
       "    </tr>\n",
       "    <tr>\n",
       "      <th>1</th>\n",
       "      <td>-1.021847</td>\n",
       "      <td>-0.209943</td>\n",
       "      <td>0.585039</td>\n",
       "      <td>-0.625991</td>\n",
       "      <td>-0.532367</td>\n",
       "    </tr>\n",
       "    <tr>\n",
       "      <th>2</th>\n",
       "      <td>-0.418176</td>\n",
       "      <td>0.878976</td>\n",
       "      <td>-0.333351</td>\n",
       "      <td>0.371767</td>\n",
       "      <td>1.223683</td>\n",
       "    </tr>\n",
       "    <tr>\n",
       "      <th>3</th>\n",
       "      <td>0.441664</td>\n",
       "      <td>1.405135</td>\n",
       "      <td>2.334376</td>\n",
       "      <td>-2.453234</td>\n",
       "      <td>0.594130</td>\n",
       "    </tr>\n",
       "    <tr>\n",
       "      <th>4</th>\n",
       "      <td>-1.855857</td>\n",
       "      <td>1.342565</td>\n",
       "      <td>1.457096</td>\n",
       "      <td>-1.522041</td>\n",
       "      <td>0.935034</td>\n",
       "    </tr>\n",
       "    <tr>\n",
       "      <th>...</th>\n",
       "      <td>...</td>\n",
       "      <td>...</td>\n",
       "      <td>...</td>\n",
       "      <td>...</td>\n",
       "      <td>...</td>\n",
       "    </tr>\n",
       "    <tr>\n",
       "      <th>995</th>\n",
       "      <td>0.713214</td>\n",
       "      <td>-0.724003</td>\n",
       "      <td>1.216396</td>\n",
       "      <td>-1.307252</td>\n",
       "      <td>-1.455331</td>\n",
       "    </tr>\n",
       "    <tr>\n",
       "      <th>996</th>\n",
       "      <td>-0.669137</td>\n",
       "      <td>-1.204326</td>\n",
       "      <td>1.871553</td>\n",
       "      <td>-2.013140</td>\n",
       "      <td>-2.348712</td>\n",
       "    </tr>\n",
       "    <tr>\n",
       "      <th>997</th>\n",
       "      <td>-0.697967</td>\n",
       "      <td>0.844773</td>\n",
       "      <td>-1.424127</td>\n",
       "      <td>1.530442</td>\n",
       "      <td>1.700386</td>\n",
       "    </tr>\n",
       "    <tr>\n",
       "      <th>998</th>\n",
       "      <td>0.471606</td>\n",
       "      <td>-0.665115</td>\n",
       "      <td>1.250725</td>\n",
       "      <td>-1.342570</td>\n",
       "      <td>-1.400265</td>\n",
       "    </tr>\n",
       "    <tr>\n",
       "      <th>999</th>\n",
       "      <td>0.683708</td>\n",
       "      <td>1.349377</td>\n",
       "      <td>1.832710</td>\n",
       "      <td>-1.921135</td>\n",
       "      <td>0.764860</td>\n",
       "    </tr>\n",
       "  </tbody>\n",
       "</table>\n",
       "<p>1000 rows × 5 columns</p>\n",
       "</div>"
      ],
      "text/plain": [
       "         col1      col2      col3      col4      col5\n",
       "0    1.484710 -0.567953  0.957248 -1.028711 -1.143092\n",
       "1   -1.021847 -0.209943  0.585039 -0.625991 -0.532367\n",
       "2   -0.418176  0.878976 -0.333351  0.371767  1.223683\n",
       "3    0.441664  1.405135  2.334376 -2.453234  0.594130\n",
       "4   -1.855857  1.342565  1.457096 -1.522041  0.935034\n",
       "..        ...       ...       ...       ...       ...\n",
       "995  0.713214 -0.724003  1.216396 -1.307252 -1.455331\n",
       "996 -0.669137 -1.204326  1.871553 -2.013140 -2.348712\n",
       "997 -0.697967  0.844773 -1.424127  1.530442  1.700386\n",
       "998  0.471606 -0.665115  1.250725 -1.342570 -1.400265\n",
       "999  0.683708  1.349377  1.832710 -1.921135  0.764860\n",
       "\n",
       "[1000 rows x 5 columns]"
      ]
     },
     "execution_count": 94,
     "metadata": {},
     "output_type": "execute_result"
    }
   ],
   "source": [
    "x_bjh"
   ]
  },
  {
   "cell_type": "code",
   "execution_count": 95,
   "metadata": {},
   "outputs": [
    {
     "data": {
      "text/plain": [
       "0      0.0\n",
       "1      0.0\n",
       "2      0.0\n",
       "3      0.0\n",
       "4      0.0\n",
       "      ... \n",
       "995    0.0\n",
       "996    0.0\n",
       "997    1.0\n",
       "998    0.0\n",
       "999    0.0\n",
       "Name: label, Length: 1000, dtype: float64"
      ]
     },
     "execution_count": 95,
     "metadata": {},
     "output_type": "execute_result"
    }
   ],
   "source": [
    "y_bjh"
   ]
  },
  {
   "cell_type": "code",
   "execution_count": null,
   "metadata": {},
   "outputs": [],
   "source": []
  },
  {
   "cell_type": "code",
   "execution_count": null,
   "metadata": {},
   "outputs": [],
   "source": []
  },
  {
   "cell_type": "markdown",
   "metadata": {},
   "source": [
    "## 解决运营数据的共线性问题"
   ]
  },
  {
   "cell_type": "code",
   "execution_count": 109,
   "metadata": {},
   "outputs": [],
   "source": [
    "import numpy as np\n",
    "from sklearn.linear_model import Ridge\n",
    "from sklearn.decomposition import PCA\n",
    "from sklearn.linear_model import LinearRegression"
   ]
  },
  {
   "cell_type": "code",
   "execution_count": 110,
   "metadata": {},
   "outputs": [],
   "source": [
    "# 读取数据\n",
    "data_gxx = np.loadtxt('/Users/balance/Desktop/python data analysis concept reference/data5.txt', delimiter='\\t')  # 读取数据文件\n",
    "x_gxx = data_gxx[:, :-1]  # 切分自变量\n",
    "y_gxx = data_gxx[:, -1]  # 切分预测变量"
   ]
  },
  {
   "cell_type": "code",
   "execution_count": 111,
   "metadata": {},
   "outputs": [
    {
     "name": "stdout",
     "output_type": "stream",
     "text": [
      "[ 8.50164360e+01 -1.18330186e-03  9.80792921e-04 -8.54201056e-04\n",
      "  2.10489064e-05  2.20180449e-04 -3.00990875e-06 -9.30084240e-06\n",
      " -2.84498824e-08]\n",
      "-7443.986528680895\n"
     ]
    }
   ],
   "source": [
    "# 使用岭回归算法进行回归分析\n",
    "model_ridge = Ridge(alpha=1.0)  # 建立岭回归模型对象\n",
    "model_ridge.fit(x_gxx, y_gxx)  # 输入x/y训练模型\n",
    "print (model_ridge.coef_)  # 打印输出自变量的系数\n",
    "print (model_ridge.intercept_)  # 打印输出截距"
   ]
  },
  {
   "cell_type": "code",
   "execution_count": 116,
   "metadata": {},
   "outputs": [
    {
     "data": {
      "text/plain": [
       "array([[9.74500000e+01, 6.91560000e+02, 3.17747000e+03, ...,\n",
       "        2.50230850e+05, 1.48545545e+06, 1.48517277e+06],\n",
       "       [1.01760000e+02, 9.20360000e+02, 1.57680100e+04, ...,\n",
       "        6.39772285e+06, 5.72076300e+05, 5.71978860e+05],\n",
       "       [9.82100000e+01, 8.94760000e+02, 8.82403000e+03, ...,\n",
       "        1.61567885e+06, 1.05798051e+06, 1.05838664e+06],\n",
       "       ...,\n",
       "       [1.00580000e+02, 5.22320000e+02, 7.88055000e+03, ...,\n",
       "        5.72337040e+05, 2.25482960e+05, 4.10655250e+05],\n",
       "       [9.95600000e+01, 5.03000000e+02, 4.02205000e+03, ...,\n",
       "        7.15016400e+05, 2.08891280e+05, 3.95942710e+05],\n",
       "       [1.00420000e+02, 7.14510000e+02, 7.79795000e+03, ...,\n",
       "        2.77508514e+06, 5.97421660e+05, 2.26286140e+05]])"
      ]
     },
     "execution_count": 116,
     "metadata": {},
     "output_type": "execute_result"
    }
   ],
   "source": [
    "x_gxx"
   ]
  },
  {
   "cell_type": "code",
   "execution_count": 114,
   "metadata": {},
   "outputs": [
    {
     "data": {
      "text/plain": [
       "array([ 812.46, 1185.68,  894.41,  995.97,  908.55, 1077.18, 1198.11,\n",
       "       1045.43,  999.64, 1120.31,  998.51,  975.7 , 1134.36,  963.95,\n",
       "       1213.37, 1058.94, 1105.75, 1208.89, 1075.08,  903.12, 1021.3 ,\n",
       "       1002.86, 1062.18, 1054.16, 1111.76, 1122.69, 1038.08, 1039.56,\n",
       "       1077.71, 1110.26,  974.37, 1182.96, 1028.33, 1043.62, 1057.61,\n",
       "       1047.95, 1076.97,  981.7 , 1181.97, 1057.11,  989.06, 1046.9 ,\n",
       "        986.8 ,  905.75, 1233.18, 1003.55,  912.03, 1167.41, 1074.36,\n",
       "       1018.34, 1179.38, 1195.93,  998.36,  954.54, 1031.69,  944.14,\n",
       "       1214.54, 1139.28, 1102.34, 1013.25, 1089.18, 1079.66, 1100.71,\n",
       "       1082.08, 1232.92, 1163.92, 1122.71,  980.16,  915.29, 1081.61,\n",
       "        863.89, 1118.91,  975.68, 1081.99, 1087.6 , 1114.33, 1048.  ,\n",
       "        983.05, 1072.7 , 1064.42, 1201.38,  997.15, 1075.52, 1171.63,\n",
       "       1117.33,  894.53,  990.35,  991.83, 1093.31, 1115.44,  950.08,\n",
       "       1030.41, 1039.31, 1094.33, 1092.28, 1078.03, 1112.72,  984.55,\n",
       "        984.92, 1220.64, 1065.96, 1027.74, 1149.91,  985.25,  985.78,\n",
       "       1233.44, 1070.31, 1146.81, 1150.42, 1008.35, 1029.45, 1043.87,\n",
       "       1164.21, 1047.89, 1021.72, 1066.14, 1011.4 , 1058.03, 1017.92,\n",
       "       1181.11, 1027.48, 1037.99,  978.85, 1168.53, 1112.26,  983.35,\n",
       "        953.18,  886.47, 1088.64, 1047.44, 1090.97, 1114.79, 1151.47,\n",
       "       1100.19,  950.37,  974.48, 1092.78,  979.41, 1156.62, 1124.01,\n",
       "       1145.21, 1020.01, 1032.33, 1106.71, 1137.24, 1208.41, 1196.85,\n",
       "        939.63,  970.51, 1018.1 , 1016.59, 1228.49, 1003.87,  940.39,\n",
       "       1165.01,  970.39, 1137.  , 1269.94, 1167.91, 1024.91, 1028.05,\n",
       "       1087.99,  872.23,  956.06, 1104.84,  962.76,  854.22, 1090.83,\n",
       "       1006.01, 1051.61, 1141.4 ,  971.5 , 1030.77, 1043.47, 1059.6 ,\n",
       "       1191.37, 1152.22, 1111.53, 1147.79, 1029.41,  803.11, 1018.32,\n",
       "        981.6 , 1041.  , 1245.97, 1065.72, 1013.96, 1038.44, 1057.27,\n",
       "       1047.28,  993.99,  979.07,  986.38,  972.65,  915.55, 1149.33,\n",
       "       1072.2 , 1201.3 ,  992.52, 1135.39,  958.05, 1264.17, 1301.48,\n",
       "       1168.44,  998.64,  927.57, 1195.23, 1102.64,  937.7 , 1133.9 ,\n",
       "       1073.36, 1035.56, 1122.35, 1065.6 , 1022.4 , 1164.29, 1042.41,\n",
       "       1081.09, 1203.6 , 1023.83, 1082.73, 1091.11, 1071.73, 1015.39,\n",
       "       1110.65, 1053.73, 1144.22, 1044.61, 1153.77, 1148.11, 1020.8 ,\n",
       "        964.36, 1121.  ,  974.82, 1171.15, 1018.5 , 1078.33,  918.09,\n",
       "       1026.99,  939.76, 1036.81, 1065.55,  974.15,  993.46, 1226.58,\n",
       "       1125.32, 1034.41, 1049.63, 1060.49,  981.6 , 1112.11, 1048.9 ,\n",
       "       1179.57, 1065.13, 1058.54, 1102.64, 1058.05, 1146.19, 1047.56,\n",
       "       1080.24, 1032.68,  891.46, 1085.24, 1086.08, 1129.9 , 1117.44,\n",
       "        978.99,  958.23,  986.46, 1030.17, 1106.39, 1099.05, 1090.55,\n",
       "       1060.26,  950.61, 1204.04,  954.26,  855.47,  933.12, 1037.01,\n",
       "       1210.56, 1032.63,  987.71, 1090.71, 1082.76, 1130.25, 1158.57,\n",
       "        998.72, 1209.62,  934.96,  971.68,  995.98,  855.29, 1012.65,\n",
       "       1196.77,  981.52, 1117.44, 1020.36,  960.33, 1224.94, 1007.28,\n",
       "       1184.86, 1014.64, 1259.15,  955.48, 1115.96, 1008.74, 1091.31,\n",
       "       1009.66, 1072.21, 1087.33, 1140.65,  910.3 , 1037.37, 1022.06,\n",
       "       1136.61,  936.59, 1286.79, 1019.12, 1048.83, 1034.84, 1167.78,\n",
       "       1095.54, 1176.43,  936.12, 1118.37, 1048.42, 1011.41,  967.77,\n",
       "        970.86,  995.95,  992.09, 1100.11, 1068.12, 1133.6 , 1020.99,\n",
       "       1047.89, 1077.83,  898.06,  802.57, 1085.15, 1024.45, 1004.75,\n",
       "       1013.62,  978.29, 1143.07, 1087.7 , 1019.81, 1113.88, 1094.5 ,\n",
       "       1156.8 , 1081.17, 1126.18, 1147.05, 1024.47, 1143.34,  947.63,\n",
       "       1034.56,  998.37, 1022.32,  828.98, 1082.89, 1112.07, 1089.37,\n",
       "       1163.59, 1035.48, 1124.49, 1090.74, 1114.89, 1091.84,  969.49,\n",
       "        957.57, 1227.61, 1184.08, 1047.55, 1012.93, 1114.13, 1123.46,\n",
       "        966.89, 1090.38, 1011.8 , 1031.12,  981.73, 1012.96,  965.48,\n",
       "       1113.64, 1093.12,  965.4 , 1008.58, 1143.18, 1220.14, 1206.4 ,\n",
       "       1040.67,  973.03, 1059.54,  986.65, 1208.98,  910.96, 1030.  ,\n",
       "       1252.36, 1186.16, 1190.9 , 1011.5 , 1140.65, 1051.42, 1091.15,\n",
       "       1221.62, 1167.44,  992.42,  870.06, 1117.82, 1078.  , 1019.82,\n",
       "        963.25, 1108.86, 1186.33, 1003.21, 1018.52, 1051.13, 1003.6 ,\n",
       "       1032.97,  889.66, 1149.91, 1286.68,  959.09, 1031.12, 1127.09,\n",
       "        953.93, 1075.93, 1115.03,  962.68, 1005.61,  903.85,  989.21,\n",
       "       1150.71, 1007.75, 1121.95, 1073.31, 1004.43, 1202.77, 1167.7 ,\n",
       "       1087.98, 1146.14,  927.22, 1151.75,  920.97, 1068.45, 1137.25,\n",
       "       1063.16, 1250.21, 1024.27, 1301.19, 1126.05, 1087.78, 1178.75,\n",
       "       1200.6 ,  928.51,  993.49, 1016.26, 1002.35, 1048.32, 1094.86,\n",
       "       1117.43,  921.26, 1184.35, 1140.47, 1173.84, 1162.75,  991.57,\n",
       "       1063.95, 1069.42, 1090.79, 1082.58, 1086.45, 1010.26,  843.89,\n",
       "       1027.39, 1102.1 , 1008.22, 1125.67, 1108.9 , 1057.16, 1146.25,\n",
       "        890.13, 1125.06, 1093.36, 1110.96, 1024.06, 1044.58, 1055.71,\n",
       "       1209.41,  958.03, 1010.26,  987.31, 1002.93, 1149.62, 1124.27,\n",
       "       1176.27,  976.01, 1126.01, 1130.85, 1092.76,  981.11,  819.21,\n",
       "       1039.08, 1081.8 , 1073.73,  990.7 ,  995.96,  973.72, 1017.82,\n",
       "       1146.38,  936.5 , 1063.75,  968.62, 1123.82, 1182.47,  891.37,\n",
       "        875.23, 1153.28, 1049.24, 1152.17,  932.99, 1004.16, 1022.85,\n",
       "       1005.43, 1269.88, 1118.29,  874.29,  998.  , 1103.62, 1159.05,\n",
       "        946.31, 1068.6 , 1039.47, 1179.64, 1069.24, 1056.79, 1129.53,\n",
       "        983.23, 1093.36,  893.54, 1045.64,  950.54,  997.34, 1105.61,\n",
       "       1088.85, 1211.17, 1058.47, 1046.81, 1020.33, 1109.24, 1090.83,\n",
       "        969.65,  962.74,  929.41, 1100.98,  996.17, 1089.74, 1102.17,\n",
       "       1190.63, 1065.56, 1082.86,  983.83, 1060.05, 1164.39, 1165.25,\n",
       "        904.89,  945.86,  938.13,  905.43, 1111.03, 1229.9 ,  951.66,\n",
       "       1102.88,  983.24,  996.33, 1018.29,  941.64,  934.74,  968.91,\n",
       "       1116.86,  936.3 , 1082.26, 1141.92, 1112.89,  930.22, 1069.73,\n",
       "       1138.55, 1023.26, 1055.  ,  947.54, 1309.58, 1211.2 , 1330.05,\n",
       "       1050.87, 1114.57, 1003.77, 1098.9 , 1022.03, 1079.03, 1118.47,\n",
       "       1111.79, 1043.49, 1012.14, 1184.89, 1111.36, 1064.02, 1081.74,\n",
       "       1085.78,  948.4 ,  924.43,  988.75, 1191.42, 1128.8 , 1113.24,\n",
       "       1055.86, 1116.35, 1103.91, 1224.61,  971.29,  994.51,  931.79,\n",
       "       1141.41, 1031.13,  984.98, 1069.44, 1068.62, 1135.73, 1202.15,\n",
       "       1089.61,  996.64, 1097.97, 1143.57, 1091.63, 1031.13,  981.46,\n",
       "       1186.39, 1125.46, 1121.37, 1173.36, 1054.39, 1010.01, 1043.9 ,\n",
       "       1107.54, 1003.82, 1027.91, 1148.49, 1076.98,  976.4 , 1114.79,\n",
       "       1074.38, 1095.  , 1006.8 , 1086.1 ,  936.99, 1097.69, 1088.81,\n",
       "       1052.55,  931.62, 1159.31, 1112.36,  976.84, 1111.76, 1045.97,\n",
       "       1051.46, 1023.3 ,  860.26,  948.11,  913.7 ,  955.52, 1111.79,\n",
       "        952.35, 1046.21, 1068.07, 1144.38, 1157.25, 1165.05,  906.94,\n",
       "       1090.39, 1010.12, 1054.12, 1026.42, 1104.38,  929.84,  867.95,\n",
       "       1006.91, 1013.64, 1099.96, 1182.28, 1086.4 , 1030.09,  936.58,\n",
       "       1168.97, 1063.91,  983.4 , 1066.1 , 1003.3 , 1042.49,  860.32,\n",
       "       1143.57, 1079.46,  994.27, 1132.99, 1048.29, 1109.19,  943.07,\n",
       "       1078.31, 1082.62, 1017.36, 1133.5 , 1098.44, 1054.23,  983.93,\n",
       "       1054.46, 1057.78, 1030.82, 1104.74, 1282.17, 1206.08,  947.54,\n",
       "       1305.37,  905.31, 1153.55, 1173.2 , 1098.61, 1061.19, 1054.48,\n",
       "       1000.08,  981.11,  995.37, 1115.63, 1105.05,  912.44, 1021.06,\n",
       "        977.42,  915.86, 1249.09, 1049.3 , 1046.48,  938.24,  959.67,\n",
       "       1077.98, 1127.37, 1098.58,  953.49, 1000.09, 1092.28, 1127.38,\n",
       "        992.2 , 1065.06,  960.06, 1050.58, 1189.45, 1127.48, 1097.5 ,\n",
       "       1023.77, 1019.99, 1133.9 ,  990.11,  873.68, 1008.16, 1129.63,\n",
       "        993.87,  993.3 , 1098.74, 1070.7 , 1106.95,  918.66, 1224.38,\n",
       "       1044.26,  942.34, 1002.43, 1102.03,  930.63, 1112.17, 1149.49,\n",
       "       1128.14, 1074.76,  945.18,  930.45, 1174.14,  894.52, 1052.73,\n",
       "       1109.34, 1134.5 , 1072.03, 1251.87, 1000.55, 1090.29, 1010.01,\n",
       "       1069.96, 1028.49, 1051.79,  914.67, 1137.64,  966.29, 1182.05,\n",
       "        963.02, 1033.85,  968.32, 1180.68,  937.36, 1033.  , 1219.96,\n",
       "        996.34,  897.03, 1086.66, 1118.54, 1088.6 , 1028.3 , 1025.5 ,\n",
       "       1022.4 , 1009.56, 1026.58, 1082.07,  924.9 , 1044.92, 1021.43,\n",
       "       1103.18, 1031.08, 1122.96, 1050.37, 1013.51, 1304.39, 1059.29,\n",
       "        949.25, 1135.54,  973.64, 1003.61,  988.4 ,  830.81, 1040.85,\n",
       "       1096.83, 1166.17, 1048.96, 1007.56, 1029.43, 1047.07,  957.51,\n",
       "       1011.66,  963.  , 1169.66, 1160.45, 1106.22, 1170.42, 1066.4 ,\n",
       "       1054.4 , 1157.86,  918.67,  989.86,  979.6 , 1076.38,  839.49,\n",
       "       1004.35, 1165.28,  985.15, 1066.41,  954.31, 1038.78, 1183.11,\n",
       "       1175.35,  868.64, 1201.61, 1046.75, 1123.07,  873.53, 1043.78,\n",
       "        937.74, 1088.92,  981.5 ,  987.14, 1084.11, 1057.12, 1115.07,\n",
       "       1121.36, 1104.21, 1097.64, 1103.37, 1000.72, 1157.58, 1117.66,\n",
       "       1217.87, 1051.99, 1059.7 , 1144.97,  998.04, 1216.6 , 1003.92,\n",
       "        974.65,  974.79, 1012.07,  996.77, 1074.97, 1162.49, 1112.62,\n",
       "       1035.14, 1119.54, 1112.18, 1091.07, 1006.72,  907.61, 1041.98,\n",
       "       1087.93,  991.48, 1053.96,  955.19, 1052.55, 1153.69, 1131.69,\n",
       "       1092.84, 1162.83, 1055.41, 1022.28,  985.08, 1089.54, 1043.93,\n",
       "       1057.01, 1070.77, 1077.1 , 1111.56, 1213.38, 1054.58, 1119.17,\n",
       "        974.51, 1040.59,  876.38,  986.79,  998.51, 1126.69, 1056.85,\n",
       "       1278.02, 1067.48, 1192.26, 1002.04, 1077.91,  985.65, 1047.03,\n",
       "       1121.86, 1065.58,  985.6 ,  966.52,  982.29, 1115.15, 1002.39,\n",
       "       1059.03, 1082.74, 1103.01, 1263.21,  982.84, 1017.5 , 1080.65,\n",
       "        917.99, 1200.92, 1161.97, 1193.08, 1165.44, 1000.16, 1043.21,\n",
       "       1141.39, 1046.24, 1072.86, 1048.42, 1117.83,  883.21, 1113.17,\n",
       "       1064.57,  936.52,  933.64, 1187.81, 1156.15, 1062.72, 1259.54,\n",
       "       1043.62,  928.14,  957.73, 1116.42, 1140.17,  975.57, 1115.84,\n",
       "       1015.1 , 1129.3 ,  976.95, 1273.04, 1080.2 ,  880.2 ,  989.07,\n",
       "       1057.86, 1007.12, 1093.15, 1024.6 , 1077.85,  983.67, 1073.67,\n",
       "       1207.23, 1258.65, 1030.71, 1107.3 ,  995.66, 1099.12])"
      ]
     },
     "execution_count": 114,
     "metadata": {},
     "output_type": "execute_result"
    }
   ],
   "source": [
    "y_gxx"
   ]
  },
  {
   "cell_type": "code",
   "execution_count": null,
   "metadata": {},
   "outputs": [],
   "source": []
  },
  {
   "cell_type": "code",
   "execution_count": 123,
   "metadata": {},
   "outputs": [
    {
     "name": "stdout",
     "output_type": "stream",
     "text": [
      "[0.9028     0.98570494 0.99957412 0.99995908 0.99999562 0.99999939\n",
      " 0.99999999 1.         1.        ]\n",
      "[1.26262171e-05]\n"
     ]
    }
   ],
   "source": [
    "# 使用主成分回归进行回归分析\n",
    "model_pca = PCA()  # 建立PCA模型对象\n",
    "data_pca = model_pca.fit_transform(x_gxx)  # 将x进行主成分分析\n",
    "ratio_cumsm = np.cumsum(model_pca.explained_variance_ratio_)  # 得到所有主成分方差占比的累积数据\n",
    "print (ratio_cumsm)  # 打印输出所有主成分方差占比累积\n",
    "rule_index = np.where(ratio_cumsm > 0.8)  # 获取方差占比超过0.8的所有索引值\n",
    "min_index = rule_index[0][0]  # 获取最小索引值\n",
    "data_pca_result = data_pca[:, :min_index + 1]  # 根据最小索引值提取主成分\n",
    "model_liner = LinearRegression()  # 建立回归模型对象\n",
    "model_liner.fit(data_pca_result, y_gxx)  # 输入主成分数据和预测变量y并训练模型\n",
    "print (model_liner.coef_)  # 打印输出自变量的系数"
   ]
  },
  {
   "cell_type": "code",
   "execution_count": 125,
   "metadata": {},
   "outputs": [
    {
     "name": "stdout",
     "output_type": "stream",
     "text": [
      "[0.9028     0.98570494 0.99957412 0.99995908 0.99999562 0.99999939\n",
      " 0.99999999 1.         1.        ]\n"
     ]
    }
   ],
   "source": [
    "print (ratio_cumsm)  # 打印输出所有主成分方差占比累积"
   ]
  },
  {
   "cell_type": "code",
   "execution_count": 126,
   "metadata": {},
   "outputs": [
    {
     "name": "stdout",
     "output_type": "stream",
     "text": [
      "[1.26262171e-05]\n"
     ]
    }
   ],
   "source": [
    "print (model_liner.coef_)  # 打印输出自变量的系数"
   ]
  },
  {
   "cell_type": "code",
   "execution_count": 124,
   "metadata": {},
   "outputs": [
    {
     "name": "stdout",
     "output_type": "stream",
     "text": [
      "1058.52726\n"
     ]
    }
   ],
   "source": [
    "print (model_liner.intercept_)  # 打印输出截距"
   ]
  },
  {
   "cell_type": "code",
   "execution_count": null,
   "metadata": {},
   "outputs": [],
   "source": []
  },
  {
   "cell_type": "markdown",
   "metadata": {},
   "source": [
    "## 有关相关性分析的混沌"
   ]
  },
  {
   "cell_type": "code",
   "execution_count": 127,
   "metadata": {},
   "outputs": [
    {
     "name": "stdout",
     "output_type": "stream",
     "text": [
      "[[ 1.   -0.04  0.27 -0.05  0.21 -0.05  0.19 -0.03 -0.02]\n",
      " [-0.04  1.   -0.01  0.73 -0.01  0.62  0.    0.48  0.51]\n",
      " [ 0.27 -0.01  1.   -0.01  0.72 -0.    0.65  0.01  0.02]\n",
      " [-0.05  0.73 -0.01  1.    0.01  0.88  0.01  0.7   0.72]\n",
      " [ 0.21 -0.01  0.72  0.01  1.    0.02  0.91  0.03  0.03]\n",
      " [-0.05  0.62 -0.    0.88  0.02  1.    0.03  0.83  0.82]\n",
      " [ 0.19  0.    0.65  0.01  0.91  0.03  1.    0.03  0.03]\n",
      " [-0.03  0.48  0.01  0.7   0.03  0.83  0.03  1.    0.71]\n",
      " [-0.02  0.51  0.02  0.72  0.03  0.82  0.03  0.71  1.  ]]\n"
     ]
    }
   ],
   "source": [
    "\n",
    "\n",
    "data_xgxhd = np.loadtxt('/Users/balance/Desktop/python data analysis concept reference/data5.txt', delimiter='\\t')  # 读取数据文件\n",
    "x_xgxhd = data_xgxhd[:, :-1]  # 切分自变量\n",
    "correlation_matrix = np.corrcoef(x_xgxhd, rowvar=0)  # 相关性分析\n",
    "print (correlation_matrix.round(2))  # 打印输出相关性结果"
   ]
  },
  {
   "cell_type": "code",
   "execution_count": null,
   "metadata": {},
   "outputs": [],
   "source": []
  },
  {
   "cell_type": "code",
   "execution_count": null,
   "metadata": {},
   "outputs": [],
   "source": []
  }
 ],
 "metadata": {
  "kernelspec": {
   "display_name": "Python 3",
   "language": "python",
   "name": "python3"
  },
  "language_info": {
   "codemirror_mode": {
    "name": "ipython",
    "version": 3
   },
   "file_extension": ".py",
   "mimetype": "text/x-python",
   "name": "python",
   "nbconvert_exporter": "python",
   "pygments_lexer": "ipython3",
   "version": "3.7.9"
  }
 },
 "nbformat": 4,
 "nbformat_minor": 4
}
