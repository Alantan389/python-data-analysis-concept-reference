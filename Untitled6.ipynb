{
 "cells": [
  {
   "cell_type": "markdown",
   "metadata": {},
   "source": [
    "## 数据运营不得不知的的数据处理经验"
   ]
  },
  {
   "cell_type": "code",
   "execution_count": 100,
   "metadata": {},
   "outputs": [],
   "source": [
    "import pandas as pd\n",
    "import numpy as np\n",
    "from sklearn.impute import SimpleImputer\n",
    "import statistics\n",
    "\n",
    "from sklearn.tree import DecisionTreeClassifier\n",
    "from sklearn.decomposition import PCA"
   ]
  },
  {
   "cell_type": "code",
   "execution_count": null,
   "metadata": {},
   "outputs": [],
   "source": []
  },
  {
   "cell_type": "markdown",
   "metadata": {},
   "source": [
    "## 缺失值的处理"
   ]
  },
  {
   "cell_type": "code",
   "execution_count": 6,
   "metadata": {},
   "outputs": [
    {
     "name": "stdout",
     "output_type": "stream",
     "text": [
      "        col1      col2      col3      col4\n",
      "0   1.346841 -0.324655 -0.083183  1.297727\n",
      "1  -1.208784       NaN -0.903849  0.020395\n",
      "2  -0.130370 -0.643851 -0.008774 -0.027778\n",
      "3   1.521728 -0.120463  1.693411 -0.492085\n",
      "4   0.405085  0.046416  1.120435       NaN\n",
      "..       ...       ...       ...       ...\n",
      "95 -0.739601  1.233303 -0.087582  0.870032\n",
      "96 -0.346054 -2.396861  2.004420 -0.060156\n",
      "97  0.198496 -0.011183  0.456664  1.177276\n",
      "98  0.843574  0.204355 -2.752567  0.019658\n",
      "99 -0.846891 -0.448674  0.068077 -1.110430\n",
      "\n",
      "[100 rows x 4 columns]\n"
     ]
    }
   ],
   "source": [
    "\n",
    "# 生成缺失数据\n",
    "df=pd.DataFrame(np.random.randn(100,4),columns=['col1','col2','col3','col4'])\n",
    "df.iloc[1:2,1]=np.nan\n",
    "df.iloc[4,3]=np.nan\n",
    "print(df)"
   ]
  },
  {
   "cell_type": "code",
   "execution_count": 8,
   "metadata": {},
   "outputs": [
    {
     "name": "stdout",
     "output_type": "stream",
     "text": [
      "     col1   col2   col3   col4\n",
      "0   False  False  False  False\n",
      "1   False   True  False  False\n",
      "2   False  False  False  False\n",
      "3   False  False  False  False\n",
      "4   False  False  False   True\n",
      "..    ...    ...    ...    ...\n",
      "95  False  False  False  False\n",
      "96  False  False  False  False\n",
      "97  False  False  False  False\n",
      "98  False  False  False  False\n",
      "99  False  False  False  False\n",
      "\n",
      "[100 rows x 4 columns]\n"
     ]
    }
   ],
   "source": [
    "# 查看那些只缺失\n",
    "nan_all=df.isnull()\n",
    "print(nan_all)"
   ]
  },
  {
   "cell_type": "code",
   "execution_count": 11,
   "metadata": {},
   "outputs": [],
   "source": [
    "nan_col1=df.isnull().any()\n",
    "nan_col2=df.isnull().all()"
   ]
  },
  {
   "cell_type": "code",
   "execution_count": 12,
   "metadata": {},
   "outputs": [
    {
     "name": "stdout",
     "output_type": "stream",
     "text": [
      "col1    False\n",
      "col2     True\n",
      "col3    False\n",
      "col4     True\n",
      "dtype: bool\n"
     ]
    }
   ],
   "source": [
    "## 获得含有na的列\n",
    "print(nan_col1)"
   ]
  },
  {
   "cell_type": "code",
   "execution_count": 15,
   "metadata": {},
   "outputs": [
    {
     "name": "stdout",
     "output_type": "stream",
     "text": [
      "col1    False\n",
      "col2    False\n",
      "col3    False\n",
      "col4    False\n",
      "dtype: bool\n"
     ]
    }
   ],
   "source": [
    "# 获得全部为na的列\n",
    "print(nan_col2)"
   ]
  },
  {
   "cell_type": "code",
   "execution_count": null,
   "metadata": {},
   "outputs": [],
   "source": []
  },
  {
   "cell_type": "code",
   "execution_count": 16,
   "metadata": {},
   "outputs": [
    {
     "name": "stdout",
     "output_type": "stream",
     "text": [
      "        col1      col2      col3      col4\n",
      "0   1.346841 -0.324655 -0.083183  1.297727\n",
      "2  -0.130370 -0.643851 -0.008774 -0.027778\n",
      "3   1.521728 -0.120463  1.693411 -0.492085\n",
      "5  -0.873159  1.289662  1.349198  0.998534\n",
      "6  -1.636502  1.018599 -0.108585 -0.553587\n",
      "..       ...       ...       ...       ...\n",
      "95 -0.739601  1.233303 -0.087582  0.870032\n",
      "96 -0.346054 -2.396861  2.004420 -0.060156\n",
      "97  0.198496 -0.011183  0.456664  1.177276\n",
      "98  0.843574  0.204355 -2.752567  0.019658\n",
      "99 -0.846891 -0.448674  0.068077 -1.110430\n",
      "\n",
      "[98 rows x 4 columns]\n"
     ]
    }
   ],
   "source": [
    "df2=df.dropna()\n",
    "print(df2)"
   ]
  },
  {
   "cell_type": "code",
   "execution_count": 17,
   "metadata": {},
   "outputs": [
    {
     "data": {
      "text/plain": [
       "(98, 4)"
      ]
     },
     "execution_count": 17,
     "metadata": {},
     "output_type": "execute_result"
    }
   ],
   "source": [
    "df2.shape"
   ]
  },
  {
   "cell_type": "code",
   "execution_count": 18,
   "metadata": {},
   "outputs": [
    {
     "data": {
      "text/plain": [
       "(100, 4)"
      ]
     },
     "execution_count": 18,
     "metadata": {},
     "output_type": "execute_result"
    }
   ],
   "source": [
    "df.shape"
   ]
  },
  {
   "cell_type": "code",
   "execution_count": null,
   "metadata": {},
   "outputs": [],
   "source": []
  },
  {
   "cell_type": "code",
   "execution_count": null,
   "metadata": {},
   "outputs": [],
   "source": []
  },
  {
   "cell_type": "markdown",
   "metadata": {},
   "source": [
    "### sklearn.preprocessing.Imputer¶\n",
    "\n",
    "https://scikit-learn.org/0.15/modules/generated/sklearn.preprocessing.Imputer.html\n",
    "    \n",
    "https://scikit-learn.org/stable/modules/generated/sklearn.impute.SimpleImputer.html"
   ]
  },
  {
   "cell_type": "code",
   "execution_count": 46,
   "metadata": {},
   "outputs": [
    {
     "name": "stdout",
     "output_type": "stream",
     "text": [
      "SimpleImputer()\n"
     ]
    }
   ],
   "source": [
    "## 将缺失值替换为特定值 \n",
    "## 将值为Nan的缺失值用均值做替换\n",
    "nan_model=SimpleImputer(missing_values=np.nan,strategy='mean')\n",
    "nan_result=nan_model.fit(df)\n",
    "print(nan_result)"
   ]
  },
  {
   "cell_type": "code",
   "execution_count": 47,
   "metadata": {},
   "outputs": [
    {
     "name": "stdout",
     "output_type": "stream",
     "text": [
      "        col1      col2      col3      col4\n",
      "0   1.346841 -0.324655 -0.083183  1.297727\n",
      "1  -1.208784       NaN -0.903849  0.020395\n",
      "2  -0.130370 -0.643851 -0.008774 -0.027778\n",
      "3   1.521728 -0.120463  1.693411 -0.492085\n",
      "4   0.405085  0.046416  1.120435       NaN\n",
      "..       ...       ...       ...       ...\n",
      "95 -0.739601  1.233303 -0.087582  0.870032\n",
      "96 -0.346054 -2.396861  2.004420 -0.060156\n",
      "97  0.198496 -0.011183  0.456664  1.177276\n",
      "98  0.843574  0.204355 -2.752567  0.019658\n",
      "99 -0.846891 -0.448674  0.068077 -1.110430\n",
      "\n",
      "[100 rows x 4 columns]\n"
     ]
    }
   ],
   "source": [
    "print(df)"
   ]
  },
  {
   "cell_type": "code",
   "execution_count": 36,
   "metadata": {},
   "outputs": [
    {
     "data": {
      "text/plain": [
       "0.392983945"
      ]
     },
     "execution_count": 36,
     "metadata": {},
     "output_type": "execute_result"
    }
   ],
   "source": [
    "statistics.mean([0.40508527, 0.04641579 , 1.12043472,0])"
   ]
  },
  {
   "cell_type": "code",
   "execution_count": 39,
   "metadata": {},
   "outputs": [
    {
     "data": {
      "text/plain": [
       "-0.5230595"
      ]
     },
     "execution_count": 39,
     "metadata": {},
     "output_type": "execute_result"
    }
   ],
   "source": [
    "statistics.mean([-1.208784,0, -0.903849 , 0.020395])"
   ]
  },
  {
   "cell_type": "code",
   "execution_count": null,
   "metadata": {},
   "outputs": [],
   "source": []
  },
  {
   "cell_type": "code",
   "execution_count": null,
   "metadata": {},
   "outputs": [],
   "source": []
  },
  {
   "cell_type": "markdown",
   "metadata": {},
   "source": [
    "## 异常值的处理"
   ]
  },
  {
   "cell_type": "code",
   "execution_count": 50,
   "metadata": {},
   "outputs": [
    {
     "name": "stdout",
     "output_type": "stream",
     "text": [
      "   col1  col2\n",
      "0     1    12\n",
      "1   120    17\n",
      "2     3    31\n",
      "3     5    53\n",
      "4     2    22\n",
      "5    12    32\n",
      "6    13    43\n"
     ]
    }
   ],
   "source": [
    "df1= pd.DataFrame({'col1':[1,120,3,5,2,12,13], 'col2':[12,17,31,53,22,32,43]})\n",
    "print(df1)"
   ]
  },
  {
   "cell_type": "code",
   "execution_count": null,
   "metadata": {},
   "outputs": [],
   "source": []
  },
  {
   "cell_type": "code",
   "execution_count": 56,
   "metadata": {},
   "outputs": [
    {
     "name": "stdout",
     "output_type": "stream",
     "text": [
      "    col1   col2\n",
      "0  False  False\n",
      "1   True  False\n",
      "2  False  False\n",
      "3  False  False\n",
      "4  False  False\n",
      "5  False  False\n",
      "6  False  False\n"
     ]
    }
   ],
   "source": [
    "## 通过z-score方法判断异常值\n",
    "##获得数据框的列名\n",
    "## 循环读取每一列\n",
    "## 得到每列的值\n",
    "# 计算每一列z-score的得分\n",
    "## 判断z-score是否大于2.2\n",
    "\n",
    "\n",
    "df1_zscore=df1.copy()\n",
    "cols1=df1.columns\n",
    "for col in cols1:\n",
    "    df1_col=df1[col]\n",
    "    z_score=(df1_col-df1_col.mean())/df1_col.std()\n",
    "    df1_zscore[col]=z_score.abs()> 2.2\n",
    "print(df1_zscore)"
   ]
  },
  {
   "cell_type": "markdown",
   "metadata": {},
   "source": [
    "本示例方法中，阀值的设定是确定异常与否的关键，通常当阀值大于2时，已经是相对异常的表现值。\n",
    "上述过程中，主要需要考虑的关键点是的：如何判断异常值。对于有guiding业务规则的可直接套用业务规则，而对于没有固定业务规则的，可以采用常见\n",
    "的数学模型进行判断，即基于概率分布的模型（例如正态分布的标准差范围），基于类聚的方法（例如kmeans),基于密度的方法（例如lof),机遇分类的方法\n",
    "（例如knn),机遇统计的方法（例如分为数法）等。\n"
   ]
  },
  {
   "cell_type": "code",
   "execution_count": null,
   "metadata": {},
   "outputs": [],
   "source": []
  },
  {
   "cell_type": "code",
   "execution_count": null,
   "metadata": {},
   "outputs": [],
   "source": []
  },
  {
   "cell_type": "markdown",
   "metadata": {},
   "source": [
    "## 重复性处理"
   ]
  },
  {
   "cell_type": "code",
   "execution_count": 57,
   "metadata": {},
   "outputs": [
    {
     "name": "stdout",
     "output_type": "stream",
     "text": [
      "  col1  col2\n",
      "0    a     3\n",
      "1    b     2\n",
      "2    a     3\n",
      "3    c     2\n"
     ]
    }
   ],
   "source": [
    "data1=['a',3]\n",
    "data2=['b',2]\n",
    "data3=['a',3]\n",
    "data4=['c',2]\n",
    "\n",
    "df2=pd.DataFrame([data1,data2,data3,data4],columns=['col1','col2'])\n",
    "print(df2)"
   ]
  },
  {
   "cell_type": "code",
   "execution_count": null,
   "metadata": {},
   "outputs": [],
   "source": []
  },
  {
   "cell_type": "code",
   "execution_count": 58,
   "metadata": {},
   "outputs": [
    {
     "name": "stdout",
     "output_type": "stream",
     "text": [
      "0    False\n",
      "1    False\n",
      "2     True\n",
      "3    False\n",
      "dtype: bool\n"
     ]
    }
   ],
   "source": [
    "# 判断重复数据\n",
    "\n",
    "isDuplicated= df2.duplicated()\n",
    "print(isDuplicated)"
   ]
  },
  {
   "cell_type": "code",
   "execution_count": null,
   "metadata": {},
   "outputs": [],
   "source": []
  },
  {
   "cell_type": "code",
   "execution_count": null,
   "metadata": {},
   "outputs": [],
   "source": []
  },
  {
   "cell_type": "code",
   "execution_count": 60,
   "metadata": {},
   "outputs": [
    {
     "name": "stdout",
     "output_type": "stream",
     "text": [
      "  col1  col2\n",
      "0    a     3\n",
      "1    b     2\n",
      "3    c     2\n",
      "  col1  col2\n",
      "0    a     3\n",
      "1    b     2\n",
      "3    c     2\n",
      "  col1  col2\n",
      "0    a     3\n",
      "1    b     2\n",
      "  col1  col2\n",
      "0    a     3\n",
      "1    b     2\n",
      "3    c     2\n"
     ]
    }
   ],
   "source": [
    "## 切除重复值\n",
    "\n",
    "new_df1=df2.drop_duplicates()\n",
    "new_df2=df2.drop_duplicates(['col1'])\n",
    "new_df3=df2.drop_duplicates(['col2'])\n",
    "new_df4=df2.drop_duplicates(['col1','col2'])\n",
    "\n",
    "print (new_df1);\n",
    "print (new_df2);\n",
    "print (new_df3);\n",
    "print (new_df4);"
   ]
  },
  {
   "cell_type": "code",
   "execution_count": null,
   "metadata": {},
   "outputs": [],
   "source": []
  },
  {
   "cell_type": "code",
   "execution_count": null,
   "metadata": {},
   "outputs": [],
   "source": []
  },
  {
   "cell_type": "markdown",
   "metadata": {},
   "source": [
    "## 将分类数据和顺序数据转换为标志变量"
   ]
  },
  {
   "cell_type": "code",
   "execution_count": null,
   "metadata": {},
   "outputs": [],
   "source": []
  },
  {
   "cell_type": "code",
   "execution_count": 61,
   "metadata": {},
   "outputs": [
    {
     "name": "stdout",
     "output_type": "stream",
     "text": [
      "        id     sex   level\n",
      "0  3566841    Male    high\n",
      "1  6541227  Female     low\n",
      "2  3512441  Female  middle\n"
     ]
    }
   ],
   "source": [
    "df3=pd.DataFrame({'id':[3566841,6541227,3512441], 'sex':['Male','Female','Female'],'level':['high','low','middle']})\n",
    "print(df3)"
   ]
  },
  {
   "cell_type": "code",
   "execution_count": 63,
   "metadata": {},
   "outputs": [
    {
     "name": "stdout",
     "output_type": "stream",
     "text": [
      "        id  sex_Male  sex_Female  level_high  level_low  level_middle\n",
      "0  3566841      True       False        True      False         False\n",
      "1  6541227     False        True       False       True         False\n",
      "2  3512441     False        True       False      False          True\n"
     ]
    }
   ],
   "source": [
    "df_new=df3.copy()\n",
    "for col_num, col_name in enumerate(df3):\n",
    "    col_data=df3[col_name]\n",
    "    col_dtype=col_data.dtype\n",
    "    if col_dtype == 'object':\n",
    "        df_new=df_new.drop(col_name,1)\n",
    "        value_sets=col_data.unique()\n",
    "        for value_unique in value_sets:\n",
    "            col_name_new = col_name + '_'+value_unique\n",
    "            col_tmp=df3.iloc[:, col_num]\n",
    "            new_col=(col_tmp == value_unique)\n",
    "            df_new[col_name_new]=new_col\n",
    "print(df_new)"
   ]
  },
  {
   "cell_type": "code",
   "execution_count": null,
   "metadata": {},
   "outputs": [],
   "source": []
  },
  {
   "cell_type": "code",
   "execution_count": 93,
   "metadata": {},
   "outputs": [
    {
     "name": "stdout",
     "output_type": "stream",
     "text": [
      "         0    0    1    2    3    4\n",
      "0  3566841  1.0  0.0  0.0  0.0  1.0\n",
      "1  6541227  0.0  1.0  1.0  0.0  0.0\n",
      "2  3512441  0.0  1.0  0.0  1.0  0.0\n"
     ]
    }
   ],
   "source": [
    "# 使用sklearn进行标志转换\n",
    "\n",
    "from sklearn.preprocessing import OneHotEncoder\n",
    "\n",
    "df10=pd.DataFrame({'id':[3566841,6541227,3512441], 'sex':[1,2,2],'level':[3,1,2]})\n",
    "\n",
    "id_data=df10.values[:, :1]\n",
    "transform_data=df10.values[:, 1:]\n",
    "enc=OneHotEncoder(handle_unknown='ignore')\n",
    "df10_new=enc.fit_transform(transform_data).toarray()\n",
    "df10_all=pd.concat((pd.DataFrame(id_data),pd.DataFrame(df10_new)),axis=1)\n",
    "print(df10_all)\n"
   ]
  },
  {
   "cell_type": "code",
   "execution_count": 94,
   "metadata": {},
   "outputs": [
    {
     "data": {
      "text/html": [
       "<div>\n",
       "<style scoped>\n",
       "    .dataframe tbody tr th:only-of-type {\n",
       "        vertical-align: middle;\n",
       "    }\n",
       "\n",
       "    .dataframe tbody tr th {\n",
       "        vertical-align: top;\n",
       "    }\n",
       "\n",
       "    .dataframe thead th {\n",
       "        text-align: right;\n",
       "    }\n",
       "</style>\n",
       "<table border=\"1\" class=\"dataframe\">\n",
       "  <thead>\n",
       "    <tr style=\"text-align: right;\">\n",
       "      <th></th>\n",
       "      <th>id</th>\n",
       "      <th>sex</th>\n",
       "      <th>level</th>\n",
       "    </tr>\n",
       "  </thead>\n",
       "  <tbody>\n",
       "    <tr>\n",
       "      <th>0</th>\n",
       "      <td>3566841</td>\n",
       "      <td>1</td>\n",
       "      <td>3</td>\n",
       "    </tr>\n",
       "    <tr>\n",
       "      <th>1</th>\n",
       "      <td>6541227</td>\n",
       "      <td>2</td>\n",
       "      <td>1</td>\n",
       "    </tr>\n",
       "    <tr>\n",
       "      <th>2</th>\n",
       "      <td>3512441</td>\n",
       "      <td>2</td>\n",
       "      <td>2</td>\n",
       "    </tr>\n",
       "  </tbody>\n",
       "</table>\n",
       "</div>"
      ],
      "text/plain": [
       "        id  sex  level\n",
       "0  3566841    1      3\n",
       "1  6541227    2      1\n",
       "2  3512441    2      2"
      ]
     },
     "execution_count": 94,
     "metadata": {},
     "output_type": "execute_result"
    }
   ],
   "source": [
    "df10"
   ]
  },
  {
   "cell_type": "code",
   "execution_count": 95,
   "metadata": {},
   "outputs": [
    {
     "data": {
      "text/plain": [
       "array([[1, 3],\n",
       "       [2, 1],\n",
       "       [2, 2]])"
      ]
     },
     "execution_count": 95,
     "metadata": {},
     "output_type": "execute_result"
    }
   ],
   "source": [
    "transform_data"
   ]
  },
  {
   "cell_type": "code",
   "execution_count": 96,
   "metadata": {},
   "outputs": [
    {
     "data": {
      "text/plain": [
       "array([[1., 0., 0., 0., 1.],\n",
       "       [0., 1., 1., 0., 0.],\n",
       "       [0., 1., 0., 1., 0.]])"
      ]
     },
     "execution_count": 96,
     "metadata": {},
     "output_type": "execute_result"
    }
   ],
   "source": [
    "df10_new"
   ]
  },
  {
   "cell_type": "code",
   "execution_count": null,
   "metadata": {},
   "outputs": [],
   "source": []
  },
  {
   "cell_type": "code",
   "execution_count": null,
   "metadata": {},
   "outputs": [],
   "source": []
  },
  {
   "cell_type": "code",
   "execution_count": null,
   "metadata": {},
   "outputs": [],
   "source": []
  }
 ],
 "metadata": {
  "kernelspec": {
   "display_name": "Python 3",
   "language": "python",
   "name": "python3"
  },
  "language_info": {
   "codemirror_mode": {
    "name": "ipython",
    "version": 3
   },
   "file_extension": ".py",
   "mimetype": "text/x-python",
   "name": "python",
   "nbconvert_exporter": "python",
   "pygments_lexer": "ipython3",
   "version": "3.7.9"
  }
 },
 "nbformat": 4,
 "nbformat_minor": 4
}
